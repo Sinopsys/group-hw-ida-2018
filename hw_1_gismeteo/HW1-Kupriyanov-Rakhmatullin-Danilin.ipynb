{
 "cells": [
  {
   "cell_type": "markdown",
   "metadata": {},
   "source": [
    "## ДЗ выполнили:\n",
    "Студенты группы _ИАД-1_\n",
    "* Куприянов Кирилл\n",
    "* Рахматуллин Айрат\n",
    "* Данилин Павел"
   ]
  },
  {
   "cell_type": "markdown",
   "metadata": {},
   "source": [
    "# Майнор \"Прикладные задачи анализа данных\"\n",
    "## Домашнее задание 1 [10 баллов] до 23:59 17.02.2018\n",
    "\n",
    "В этом домашнем задании вам потребуется написать генератор описания прогноза погоды на следующую неделю в каком-нибудь городе. Домашнее задание состоит из трех частей:\n",
    "1. Скачивание данных о состоянии погоды в городе с gismeteo.ru\n",
    "2. Генерация описания прогноза\n",
    "3. Творческая часть\n",
    "\n",
    "Все три части можно считать независимыми – вы можете сделать одну или две из них, однако мы настоятельно советуем выполнить все три. Все инструкции по выполнению домашнего задания – ниже. \n",
    "\n"
   ]
  },
  {
   "cell_type": "markdown",
   "metadata": {},
   "source": [
    "### 1. Сбор данных [3 балла]\n",
    "\n",
    "Выберите произвольным образом город в России и найдите прогноз погоды в нем на ближайшие 10 дней на сайте gismeteo.ru.\n",
    "\n",
    "Пример: прогноз на 10 ближайших дней в Москве – https://www.gismeteo.ru/weather-moscow-4368/10-days/\n",
    "\n",
    "Используя известные вам библиотеки для работы с протоколом http и html кодом, извлеките прогноз на ближайшие 10 дней, начиная со дня, когда вы начали делать домашнее задание.  \n",
    "\n",
    "Резльтатом сбора данных должна быть таблица со следующими строками:\n",
    "* минимальная температура\n",
    "* максимальна температура\n",
    "* скорость ветра\n",
    "* уровень осадков \n",
    "\n",
    "В столбцах таблицы должны быть даты и дни недели.  Пример итоговой таблицы вы найдете в следующей части задания. "
   ]
  },
  {
   "cell_type": "markdown",
   "metadata": {},
   "source": [
    "---"
   ]
  },
  {
   "cell_type": "markdown",
   "metadata": {},
   "source": [
    "Сделаем import всех необходимых библиотек."
   ]
  },
  {
   "cell_type": "code",
   "execution_count": 1,
   "metadata": {
    "scrolled": true
   },
   "outputs": [],
   "source": [
    "from scrapy.crawler import CrawlerProcess\n",
    "from twisted.internet.error import ReactorNotRestartable\n",
    "from json import dump\n",
    "\n",
    "import scrapy\n",
    "import random\n",
    "import pandas as pd\n",
    "import datetime\n",
    "import re\n",
    "import pymorphy2"
   ]
  },
  {
   "cell_type": "markdown",
   "metadata": {},
   "source": [
    "Выберем случайный российский город. Данные взяты из [Википедии](https://en.wikipedia.org/wiki/List_of_cities_and_towns_in_Russia)."
   ]
  },
  {
   "cell_type": "code",
   "execution_count": 2,
   "metadata": {},
   "outputs": [],
   "source": [
    "CITIES_URL = 'https://en.wikipedia.org/wiki/List_of_cities_and_towns_in_Russia'\n",
    "CITY_SELECTOR = '//tr/td[2]'"
   ]
  },
  {
   "cell_type": "code",
   "execution_count": 3,
   "metadata": {},
   "outputs": [],
   "source": [
    "cities = []\n",
    "class RussianCities(scrapy.Spider):\n",
    "    name = 'russian_cities'\n",
    "    start_urls = [CITIES_URL,]\n",
    "    def parse(self, response):\n",
    "        for city in response.xpath(CITY_SELECTOR):\n",
    "            cities.append(city.xpath('text()').extract_first())"
   ]
  },
  {
   "cell_type": "code",
   "execution_count": 4,
   "metadata": {
    "collapsed": true
   },
   "outputs": [
    {
     "name": "stderr",
     "output_type": "stream",
     "text": [
      "2018-02-17 18:56:46 [scrapy.utils.log] INFO: Scrapy 1.5.0 started (bot: scrapybot)\n",
      "2018-02-17 18:56:46 [scrapy.utils.log] INFO: Versions: lxml 4.1.1.0, libxml2 2.9.7, cssselect 1.0.3, parsel 1.4.0, w3lib 1.19.0, Twisted 17.9.0, Python 2.7.14 (default, Jan  5 2018, 10:41:29) - [GCC 7.2.1 20171224], pyOpenSSL 17.5.0 (OpenSSL 1.1.0g  2 Nov 2017), cryptography 2.1.4, Platform Linux-4.14.15-gnu-1-x86_64-with-glibc2.2.5\n",
      "2018-02-17 18:56:46 [scrapy.crawler] INFO: Overridden settings: {}\n",
      "2018-02-17 18:56:46 [scrapy.middleware] INFO: Enabled extensions:\n",
      "['scrapy.extensions.memusage.MemoryUsage',\n",
      " 'scrapy.extensions.logstats.LogStats',\n",
      " 'scrapy.extensions.telnet.TelnetConsole',\n",
      " 'scrapy.extensions.corestats.CoreStats']\n",
      "2018-02-17 18:56:46 [scrapy.middleware] INFO: Enabled downloader middlewares:\n",
      "['scrapy.downloadermiddlewares.httpauth.HttpAuthMiddleware',\n",
      " 'scrapy.downloadermiddlewares.downloadtimeout.DownloadTimeoutMiddleware',\n",
      " 'scrapy.downloadermiddlewares.defaultheaders.DefaultHeadersMiddleware',\n",
      " 'scrapy.downloadermiddlewares.useragent.UserAgentMiddleware',\n",
      " 'scrapy.downloadermiddlewares.retry.RetryMiddleware',\n",
      " 'scrapy.downloadermiddlewares.redirect.MetaRefreshMiddleware',\n",
      " 'scrapy.downloadermiddlewares.httpcompression.HttpCompressionMiddleware',\n",
      " 'scrapy.downloadermiddlewares.redirect.RedirectMiddleware',\n",
      " 'scrapy.downloadermiddlewares.cookies.CookiesMiddleware',\n",
      " 'scrapy.downloadermiddlewares.httpproxy.HttpProxyMiddleware',\n",
      " 'scrapy.downloadermiddlewares.stats.DownloaderStats']\n",
      "2018-02-17 18:56:46 [scrapy.middleware] INFO: Enabled spider middlewares:\n",
      "['scrapy.spidermiddlewares.httperror.HttpErrorMiddleware',\n",
      " 'scrapy.spidermiddlewares.offsite.OffsiteMiddleware',\n",
      " 'scrapy.spidermiddlewares.referer.RefererMiddleware',\n",
      " 'scrapy.spidermiddlewares.urllength.UrlLengthMiddleware',\n",
      " 'scrapy.spidermiddlewares.depth.DepthMiddleware']\n",
      "2018-02-17 18:56:46 [scrapy.middleware] INFO: Enabled item pipelines:\n",
      "[]\n",
      "2018-02-17 18:56:46 [scrapy.core.engine] INFO: Spider opened\n",
      "2018-02-17 18:56:46 [scrapy.extensions.logstats] INFO: Crawled 0 pages (at 0 pages/min), scraped 0 items (at 0 items/min)\n",
      "2018-02-17 18:56:46 [scrapy.extensions.telnet] DEBUG: Telnet console listening on 127.0.0.1:6023\n",
      "2018-02-17 18:56:48 [scrapy.core.engine] DEBUG: Crawled (200) <GET https://en.wikipedia.org/wiki/List_of_cities_and_towns_in_Russia> (referer: None)\n",
      "2018-02-17 18:56:48 [scrapy.core.engine] INFO: Closing spider (finished)\n",
      "2018-02-17 18:56:48 [scrapy.statscollectors] INFO: Dumping Scrapy stats:\n",
      "{'downloader/request_bytes': 254,\n",
      " 'downloader/request_count': 1,\n",
      " 'downloader/request_method_count/GET': 1,\n",
      " 'downloader/response_bytes': 71925,\n",
      " 'downloader/response_count': 1,\n",
      " 'downloader/response_status_count/200': 1,\n",
      " 'finish_reason': 'finished',\n",
      " 'finish_time': datetime.datetime(2018, 2, 17, 15, 56, 48, 334784),\n",
      " 'log_count/DEBUG': 2,\n",
      " 'log_count/INFO': 7,\n",
      " 'memusage/max': 105455616,\n",
      " 'memusage/startup': 105455616,\n",
      " 'response_received_count': 1,\n",
      " 'scheduler/dequeued': 1,\n",
      " 'scheduler/dequeued/memory': 1,\n",
      " 'scheduler/enqueued': 1,\n",
      " 'scheduler/enqueued/memory': 1,\n",
      " 'start_time': datetime.datetime(2018, 2, 17, 15, 56, 46, 967600)}\n",
      "2018-02-17 18:56:48 [scrapy.core.engine] INFO: Spider closed (finished)\n"
     ]
    }
   ],
   "source": [
    "process = CrawlerProcess()\n",
    "process.crawl(RussianCities)\n",
    "process.start()"
   ]
  },
  {
   "cell_type": "code",
   "execution_count": 5,
   "metadata": {},
   "outputs": [
    {
     "data": {
      "text/plain": [
       "1112"
      ]
     },
     "execution_count": 5,
     "metadata": {},
     "output_type": "execute_result"
    }
   ],
   "source": [
    "len(cities)"
   ]
  },
  {
   "cell_type": "code",
   "execution_count": 6,
   "metadata": {},
   "outputs": [
    {
     "name": "stdout",
     "output_type": "stream",
     "text": [
      "Сергиев Посад\n"
     ]
    }
   ],
   "source": [
    "random.seed(4118956)\n",
    "print(random.choice(cities))"
   ]
  },
  {
   "cell_type": "markdown",
   "metadata": {},
   "source": [
    "Выбрали Сергиев Посад. "
   ]
  },
  {
   "cell_type": "markdown",
   "metadata": {},
   "source": [
    "Если пробовать запустить дальше код, будет кидаться ошибка __ReactorNotRestartable__, поэтому:\n",
    "\n",
    "Для воспроизведения кода далее необходимо перезагрузить ядро (kernel $\\rightarrow$ restart) и начать выполнение с _этой_  клетки.\n",
    "Дело в том, что дальше запускается ещё один spider scrapy, а два twisted process'a не могут одновременно существовать (поскольку предыдущий уже запущен)."
   ]
  },
  {
   "cell_type": "code",
   "execution_count": 1,
   "metadata": {},
   "outputs": [],
   "source": [
    "from scrapy.crawler import CrawlerProcess\n",
    "from twisted.internet.error import ReactorNotRestartable\n",
    "from json import dump\n",
    "\n",
    "import scrapy\n",
    "import random\n",
    "import pandas as pd\n",
    "import datetime\n",
    "import re\n",
    "import pymorphy2"
   ]
  },
  {
   "cell_type": "code",
   "execution_count": 2,
   "metadata": {},
   "outputs": [],
   "source": [
    "CITY_URL = 'https://www.gismeteo.ru/weather-sergiyev-posad-11958/10-days/'\n",
    "\n",
    "# Выделим все селекторы в словарь, чтобы при их изменении \n",
    "# на сайте, можно было поменять их здесь и один раз.\n",
    "#\n",
    "SELECTORS = {\n",
    "    'weekday': '//div[@class=\"forecast_frame\"]//div[@class=\"w_date__day\"]/text()',\n",
    "    'day': '//span[contains(@class, \"w_date__date\")]/text()',\n",
    "    'min_temp': '//div[@class=\"maxt\"]/text()',\n",
    "    'max_temp': '//div[@class=\"mint\"]/text()',\n",
    "    'wind_speed': '//div[contains(@class,\"w_wind__warning\")]/text()',\n",
    "    'precipitation': '//div[contains(@class,\"w_precipitation__value\")]/text()',\n",
    "}\n",
    "\n",
    "def process_digit(d):\n",
    "    '''\n",
    "    Removes all junk like \\n and whitespaces.\n",
    "    Returns: pure float number.\n",
    "    '''\n",
    "    return re.findall('[\\d,]+', d)[0]"
   ]
  },
  {
   "cell_type": "markdown",
   "metadata": {},
   "source": [
    "Данные о погоде будут собираться по состоянию на 12.02.2018"
   ]
  },
  {
   "cell_type": "code",
   "execution_count": 3,
   "metadata": {},
   "outputs": [],
   "source": [
    "json_data = []\n",
    "class GismeteoForecast(scrapy.Spider):\n",
    "    name = 'gismeteo_forecast'\n",
    "    start_urls = [CITY_URL,]\n",
    "    def parse(self, response):\n",
    "        weekdays = response.xpath(SELECTORS['weekday']).extract()\n",
    "        days = response.xpath(SELECTORS['day']).extract()[:10]\n",
    "        min_temp = response.xpath(SELECTORS['min_temp']).extract()[:10]\n",
    "        max_temp = response.xpath(SELECTORS['max_temp']).extract()[:10]\n",
    "        wind_speed =  response.xpath(SELECTORS['wind_speed']).extract()[:10]\n",
    "        precipitation = response.xpath(SELECTORS['precipitation']).extract()\n",
    "        for i in range(10):\n",
    "            json_data.append({\n",
    "                'weekday': weekdays[i],\n",
    "                'day': process_digit(days[i]),\n",
    "                'minTemp': min_temp[i],\n",
    "                'maxTemp': max_temp[i],\n",
    "                'windSpeed': process_digit(wind_speed[i]),\n",
    "                'precipitation': process_digit(precipitation[i]),\n",
    "            })"
   ]
  },
  {
   "cell_type": "code",
   "execution_count": 4,
   "metadata": {
    "collapsed": true
   },
   "outputs": [
    {
     "name": "stderr",
     "output_type": "stream",
     "text": [
      "2018-02-17 18:57:12 [scrapy.utils.log] INFO: Scrapy 1.5.0 started (bot: scrapybot)\n",
      "2018-02-17 18:57:12 [scrapy.utils.log] INFO: Versions: lxml 4.1.1.0, libxml2 2.9.7, cssselect 1.0.3, parsel 1.4.0, w3lib 1.19.0, Twisted 17.9.0, Python 2.7.14 (default, Jan  5 2018, 10:41:29) - [GCC 7.2.1 20171224], pyOpenSSL 17.5.0 (OpenSSL 1.1.0g  2 Nov 2017), cryptography 2.1.4, Platform Linux-4.14.15-gnu-1-x86_64-with-glibc2.2.5\n",
      "2018-02-17 18:57:12 [scrapy.crawler] INFO: Overridden settings: {}\n",
      "2018-02-17 18:57:12 [scrapy.middleware] INFO: Enabled extensions:\n",
      "['scrapy.extensions.memusage.MemoryUsage',\n",
      " 'scrapy.extensions.logstats.LogStats',\n",
      " 'scrapy.extensions.telnet.TelnetConsole',\n",
      " 'scrapy.extensions.corestats.CoreStats']\n",
      "2018-02-17 18:57:12 [scrapy.middleware] INFO: Enabled downloader middlewares:\n",
      "['scrapy.downloadermiddlewares.httpauth.HttpAuthMiddleware',\n",
      " 'scrapy.downloadermiddlewares.downloadtimeout.DownloadTimeoutMiddleware',\n",
      " 'scrapy.downloadermiddlewares.defaultheaders.DefaultHeadersMiddleware',\n",
      " 'scrapy.downloadermiddlewares.useragent.UserAgentMiddleware',\n",
      " 'scrapy.downloadermiddlewares.retry.RetryMiddleware',\n",
      " 'scrapy.downloadermiddlewares.redirect.MetaRefreshMiddleware',\n",
      " 'scrapy.downloadermiddlewares.httpcompression.HttpCompressionMiddleware',\n",
      " 'scrapy.downloadermiddlewares.redirect.RedirectMiddleware',\n",
      " 'scrapy.downloadermiddlewares.cookies.CookiesMiddleware',\n",
      " 'scrapy.downloadermiddlewares.httpproxy.HttpProxyMiddleware',\n",
      " 'scrapy.downloadermiddlewares.stats.DownloaderStats']\n",
      "2018-02-17 18:57:12 [scrapy.middleware] INFO: Enabled spider middlewares:\n",
      "['scrapy.spidermiddlewares.httperror.HttpErrorMiddleware',\n",
      " 'scrapy.spidermiddlewares.offsite.OffsiteMiddleware',\n",
      " 'scrapy.spidermiddlewares.referer.RefererMiddleware',\n",
      " 'scrapy.spidermiddlewares.urllength.UrlLengthMiddleware',\n",
      " 'scrapy.spidermiddlewares.depth.DepthMiddleware']\n",
      "2018-02-17 18:57:12 [scrapy.middleware] INFO: Enabled item pipelines:\n",
      "[]\n",
      "2018-02-17 18:57:12 [scrapy.core.engine] INFO: Spider opened\n",
      "2018-02-17 18:57:12 [scrapy.extensions.logstats] INFO: Crawled 0 pages (at 0 pages/min), scraped 0 items (at 0 items/min)\n",
      "2018-02-17 18:57:12 [scrapy.extensions.telnet] DEBUG: Telnet console listening on 127.0.0.1:6023\n",
      "2018-02-17 18:57:12 [scrapy.core.engine] DEBUG: Crawled (200) <GET https://www.gismeteo.ru/weather-sergiyev-posad-11958/10-days/> (referer: None)\n",
      "2018-02-17 18:57:12 [scrapy.core.engine] INFO: Closing spider (finished)\n",
      "2018-02-17 18:57:12 [scrapy.statscollectors] INFO: Dumping Scrapy stats:\n",
      "{'downloader/request_bytes': 251,\n",
      " 'downloader/request_count': 1,\n",
      " 'downloader/request_method_count/GET': 1,\n",
      " 'downloader/response_bytes': 51374,\n",
      " 'downloader/response_count': 1,\n",
      " 'downloader/response_status_count/200': 1,\n",
      " 'finish_reason': 'finished',\n",
      " 'finish_time': datetime.datetime(2018, 2, 17, 15, 57, 12, 785491),\n",
      " 'log_count/DEBUG': 2,\n",
      " 'log_count/INFO': 7,\n",
      " 'memusage/max': 107646976,\n",
      " 'memusage/startup': 107646976,\n",
      " 'response_received_count': 1,\n",
      " 'scheduler/dequeued': 1,\n",
      " 'scheduler/dequeued/memory': 1,\n",
      " 'scheduler/enqueued': 1,\n",
      " 'scheduler/enqueued/memory': 1,\n",
      " 'start_time': datetime.datetime(2018, 2, 17, 15, 57, 12, 349216)}\n",
      "2018-02-17 18:57:12 [scrapy.core.engine] INFO: Spider closed (finished)\n"
     ]
    }
   ],
   "source": [
    "# Этот блок try-except на случай если вы забыли перезапустить ядро..\n",
    "#\n",
    "try:\n",
    "    process = CrawlerProcess()\n",
    "    process.crawl(GismeteoForecast)\n",
    "    process.start()\n",
    "except ReactorNotRestartable:\n",
    "    print('\\n\\n\\n------------\\nRestart kernel and rerun the cells where it\\'s said to do so (see above).\\n------------')"
   ]
  },
  {
   "cell_type": "markdown",
   "metadata": {},
   "source": [
    "Сохраним результаты в json."
   ]
  },
  {
   "cell_type": "code",
   "execution_count": 5,
   "metadata": {},
   "outputs": [],
   "source": [
    "with open('result.json', 'w') as fp:\n",
    "    dump(json_data, fp)"
   ]
  },
  {
   "cell_type": "markdown",
   "metadata": {},
   "source": [
    "Считаем в dataframe записанный json-файл."
   ]
  },
  {
   "cell_type": "code",
   "execution_count": 6,
   "metadata": {},
   "outputs": [],
   "source": [
    "df = pd.read_json('result.json')"
   ]
  },
  {
   "cell_type": "code",
   "execution_count": 7,
   "metadata": {},
   "outputs": [
    {
     "data": {
      "text/html": [
       "<div>\n",
       "<style scoped>\n",
       "    .dataframe tbody tr th:only-of-type {\n",
       "        vertical-align: middle;\n",
       "    }\n",
       "\n",
       "    .dataframe tbody tr th {\n",
       "        vertical-align: top;\n",
       "    }\n",
       "\n",
       "    .dataframe thead th {\n",
       "        text-align: right;\n",
       "    }\n",
       "</style>\n",
       "<table border=\"1\" class=\"dataframe\">\n",
       "  <thead>\n",
       "    <tr style=\"text-align: right;\">\n",
       "      <th></th>\n",
       "      <th>day</th>\n",
       "      <th>maxTemp</th>\n",
       "      <th>minTemp</th>\n",
       "      <th>precipitation</th>\n",
       "      <th>weekday</th>\n",
       "      <th>windSpeed</th>\n",
       "    </tr>\n",
       "  </thead>\n",
       "  <tbody>\n",
       "    <tr>\n",
       "      <th>0</th>\n",
       "      <td>17</td>\n",
       "      <td>−6</td>\n",
       "      <td>−4</td>\n",
       "      <td>0,55</td>\n",
       "      <td>Сб</td>\n",
       "      <td>9</td>\n",
       "    </tr>\n",
       "    <tr>\n",
       "      <th>1</th>\n",
       "      <td>18</td>\n",
       "      <td>−7</td>\n",
       "      <td>−4</td>\n",
       "      <td>3,1</td>\n",
       "      <td>Вс</td>\n",
       "      <td>9</td>\n",
       "    </tr>\n",
       "    <tr>\n",
       "      <th>2</th>\n",
       "      <td>19</td>\n",
       "      <td>−7</td>\n",
       "      <td>−3</td>\n",
       "      <td>1,2</td>\n",
       "      <td>Пн</td>\n",
       "      <td>5</td>\n",
       "    </tr>\n",
       "    <tr>\n",
       "      <th>3</th>\n",
       "      <td>20</td>\n",
       "      <td>−8</td>\n",
       "      <td>−6</td>\n",
       "      <td>0,6</td>\n",
       "      <td>Вт</td>\n",
       "      <td>7</td>\n",
       "    </tr>\n",
       "    <tr>\n",
       "      <th>4</th>\n",
       "      <td>21</td>\n",
       "      <td>−12</td>\n",
       "      <td>−9</td>\n",
       "      <td>0,7</td>\n",
       "      <td>Ср</td>\n",
       "      <td>10</td>\n",
       "    </tr>\n",
       "    <tr>\n",
       "      <th>5</th>\n",
       "      <td>22</td>\n",
       "      <td>−15</td>\n",
       "      <td>−11</td>\n",
       "      <td>0</td>\n",
       "      <td>Чт</td>\n",
       "      <td>7</td>\n",
       "    </tr>\n",
       "    <tr>\n",
       "      <th>6</th>\n",
       "      <td>23</td>\n",
       "      <td>−16</td>\n",
       "      <td>−10</td>\n",
       "      <td>0</td>\n",
       "      <td>Пт</td>\n",
       "      <td>5</td>\n",
       "    </tr>\n",
       "    <tr>\n",
       "      <th>7</th>\n",
       "      <td>24</td>\n",
       "      <td>−17</td>\n",
       "      <td>−11</td>\n",
       "      <td>0,4</td>\n",
       "      <td>Сб</td>\n",
       "      <td>9</td>\n",
       "    </tr>\n",
       "    <tr>\n",
       "      <th>8</th>\n",
       "      <td>25</td>\n",
       "      <td>−18</td>\n",
       "      <td>−15</td>\n",
       "      <td>0</td>\n",
       "      <td>Вс</td>\n",
       "      <td>11</td>\n",
       "    </tr>\n",
       "    <tr>\n",
       "      <th>9</th>\n",
       "      <td>26</td>\n",
       "      <td>−20</td>\n",
       "      <td>−17</td>\n",
       "      <td>0,6</td>\n",
       "      <td>Пн</td>\n",
       "      <td>10</td>\n",
       "    </tr>\n",
       "  </tbody>\n",
       "</table>\n",
       "</div>"
      ],
      "text/plain": [
       "   day maxTemp minTemp precipitation weekday  windSpeed\n",
       "0   17      −6      −4          0,55      Сб          9\n",
       "1   18      −7      −4           3,1      Вс          9\n",
       "2   19      −7      −3           1,2      Пн          5\n",
       "3   20      −8      −6           0,6      Вт          7\n",
       "4   21     −12      −9           0,7      Ср         10\n",
       "5   22     −15     −11             0      Чт          7\n",
       "6   23     −16     −10             0      Пт          5\n",
       "7   24     −17     −11           0,4      Сб          9\n",
       "8   25     −18     −15             0      Вс         11\n",
       "9   26     −20     −17           0,6      Пн         10"
      ]
     },
     "execution_count": 7,
     "metadata": {},
     "output_type": "execute_result"
    }
   ],
   "source": [
    "df"
   ]
  },
  {
   "cell_type": "markdown",
   "metadata": {},
   "source": [
    "Зададим таблице правильный индекс и транспонируем."
   ]
  },
  {
   "cell_type": "code",
   "execution_count": 8,
   "metadata": {},
   "outputs": [],
   "source": [
    "days = df['day']\n",
    "weekdays = df['weekday']\n",
    "new_index = []\n",
    "\n",
    "for day, w_day in zip(days, weekdays):\n",
    "    new_index.append('{d}.0{m} ({w})'.format(d=day,\n",
    "                                            w=w_day.encode('utf-8'),\n",
    "                                            m=datetime.date.today().month))\n",
    "\n",
    "df.drop(['day', 'weekday'], axis=1, inplace=True)\n",
    "df.index = new_index\n",
    "df = df.T"
   ]
  },
  {
   "cell_type": "code",
   "execution_count": 9,
   "metadata": {
    "scrolled": true
   },
   "outputs": [
    {
     "data": {
      "text/html": [
       "<div>\n",
       "<style scoped>\n",
       "    .dataframe tbody tr th:only-of-type {\n",
       "        vertical-align: middle;\n",
       "    }\n",
       "\n",
       "    .dataframe tbody tr th {\n",
       "        vertical-align: top;\n",
       "    }\n",
       "\n",
       "    .dataframe thead th {\n",
       "        text-align: right;\n",
       "    }\n",
       "</style>\n",
       "<table border=\"1\" class=\"dataframe\">\n",
       "  <thead>\n",
       "    <tr style=\"text-align: right;\">\n",
       "      <th></th>\n",
       "      <th>17.02 (Сб)</th>\n",
       "      <th>18.02 (Вс)</th>\n",
       "      <th>19.02 (Пн)</th>\n",
       "      <th>20.02 (Вт)</th>\n",
       "      <th>21.02 (Ср)</th>\n",
       "      <th>22.02 (Чт)</th>\n",
       "      <th>23.02 (Пт)</th>\n",
       "      <th>24.02 (Сб)</th>\n",
       "      <th>25.02 (Вс)</th>\n",
       "      <th>26.02 (Пн)</th>\n",
       "    </tr>\n",
       "  </thead>\n",
       "  <tbody>\n",
       "    <tr>\n",
       "      <th>maxTemp</th>\n",
       "      <td>−6</td>\n",
       "      <td>−7</td>\n",
       "      <td>−7</td>\n",
       "      <td>−8</td>\n",
       "      <td>−12</td>\n",
       "      <td>−15</td>\n",
       "      <td>−16</td>\n",
       "      <td>−17</td>\n",
       "      <td>−18</td>\n",
       "      <td>−20</td>\n",
       "    </tr>\n",
       "    <tr>\n",
       "      <th>minTemp</th>\n",
       "      <td>−4</td>\n",
       "      <td>−4</td>\n",
       "      <td>−3</td>\n",
       "      <td>−6</td>\n",
       "      <td>−9</td>\n",
       "      <td>−11</td>\n",
       "      <td>−10</td>\n",
       "      <td>−11</td>\n",
       "      <td>−15</td>\n",
       "      <td>−17</td>\n",
       "    </tr>\n",
       "    <tr>\n",
       "      <th>precipitation</th>\n",
       "      <td>0,55</td>\n",
       "      <td>3,1</td>\n",
       "      <td>1,2</td>\n",
       "      <td>0,6</td>\n",
       "      <td>0,7</td>\n",
       "      <td>0</td>\n",
       "      <td>0</td>\n",
       "      <td>0,4</td>\n",
       "      <td>0</td>\n",
       "      <td>0,6</td>\n",
       "    </tr>\n",
       "    <tr>\n",
       "      <th>windSpeed</th>\n",
       "      <td>9</td>\n",
       "      <td>9</td>\n",
       "      <td>5</td>\n",
       "      <td>7</td>\n",
       "      <td>10</td>\n",
       "      <td>7</td>\n",
       "      <td>5</td>\n",
       "      <td>9</td>\n",
       "      <td>11</td>\n",
       "      <td>10</td>\n",
       "    </tr>\n",
       "  </tbody>\n",
       "</table>\n",
       "</div>"
      ],
      "text/plain": [
       "              17.02 (Сб) 18.02 (Вс) 19.02 (Пн) 20.02 (Вт) 21.02 (Ср)  \\\n",
       "maxTemp               −6         −7         −7         −8        −12   \n",
       "minTemp               −4         −4         −3         −6         −9   \n",
       "precipitation       0,55        3,1        1,2        0,6        0,7   \n",
       "windSpeed              9          9          5          7         10   \n",
       "\n",
       "              22.02 (Чт) 23.02 (Пт) 24.02 (Сб) 25.02 (Вс) 26.02 (Пн)  \n",
       "maxTemp              −15        −16        −17        −18        −20  \n",
       "minTemp              −11        −10        −11        −15        −17  \n",
       "precipitation          0          0        0,4          0        0,6  \n",
       "windSpeed              7          5          9         11         10  "
      ]
     },
     "execution_count": 9,
     "metadata": {},
     "output_type": "execute_result"
    }
   ],
   "source": [
    "df"
   ]
  },
  {
   "cell_type": "markdown",
   "metadata": {},
   "source": [
    "### 2. Генератор описания прогноза погоды [4 балла]\n",
    "\n",
    "Если у вас не получилось извлечь прогноз погоды в предыдущей части задания, воспользуйтесь таблицей ниже.\n",
    "В ней приведен прогноз четырех показателей на ближайшие 10 дней в Москве – минимальная и максимальная температура, скорость ветра и уровень осадков. "
   ]
  },
  {
   "cell_type": "markdown",
   "metadata": {},
   "source": [
    "|                | 02.02 (пт) | 03.02 (сб) | 04.02 (вс)| 05.02 (пн) | 06.02 (вт) | 07.02 (пн) | 08.02 (ср) | 09.02 (ср) | 10.02 (сб) | 11.02 (вс)\n",
    "|----------------|-------|-------|-------|-------|-------|-------|-------|\n",
    "| минимальная температура    | -9    | -1    | -8    | -13    | -12    | -15    | -21    | -14 |-8 |-8\n",
    "| максимальная температура    | -1    | +1    | -2    | -9   | -11    | -12    | -16    |-5    |-6    |-5|\n",
    "| скорость ветра | 10    | 13    | 15    | 15   |11    | 6    | 7 | 9 | 8 |12\n",
    "| уровень осадков         | 1.35  | 8.6  | 15.5  | 6.6   | 2.7   | 2.1   | 0   | 3.2   |0.8  | 0.4"
   ]
  },
  {
   "cell_type": "markdown",
   "metadata": {},
   "source": [
    "Прогноз погоды должен состоять из следующих (или подобным им) предложений, генерируемых по шаблонам (ниже три шаблона):\n",
    "* В день1 похолодает / потеплеет на X градус (-а, -ов) по сравнению с день2\n",
    "    * *В четверг в НазваниеГорода потеплеет на 7 градусов по сравнению со средой*\n",
    "* Скорость ветра изменится на X единиц в день1 по сравнению с день2.\n",
    "    * *Скорость ветра изменится на 3 единицы в понедельник по сравнению с пятницей*\n",
    "* Уровень осадков повысится / понизится на X единиц за Y дней. \n",
    "    * *Уровень осадков понится на 3.85 единиц за 7 дней*\n",
    "\n",
    "Вместо НазваниеГорода подставьте название выбранного вами города, используя фунцкии для согласования существительных с предлогами. "
   ]
  },
  {
   "cell_type": "markdown",
   "metadata": {},
   "source": [
    "Некоторые вспомогательные функции, которые вам понадобятся: согласование существительного с числительным и приведение существительного к нужному падежу: "
   ]
  },
  {
   "cell_type": "code",
   "execution_count": 10,
   "metadata": {},
   "outputs": [],
   "source": [
    "df = pd.read_csv('gismeteo_forecast.csv', sep=';', index_col=0)"
   ]
  },
  {
   "cell_type": "code",
   "execution_count": 11,
   "metadata": {},
   "outputs": [
    {
     "data": {
      "text/html": [
       "<div>\n",
       "<style scoped>\n",
       "    .dataframe tbody tr th:only-of-type {\n",
       "        vertical-align: middle;\n",
       "    }\n",
       "\n",
       "    .dataframe tbody tr th {\n",
       "        vertical-align: top;\n",
       "    }\n",
       "\n",
       "    .dataframe thead th {\n",
       "        text-align: right;\n",
       "    }\n",
       "</style>\n",
       "<table border=\"1\" class=\"dataframe\">\n",
       "  <thead>\n",
       "    <tr style=\"text-align: right;\">\n",
       "      <th></th>\n",
       "      <th>13.02 (Вт)</th>\n",
       "      <th>14.02 (Ср)</th>\n",
       "      <th>15.02 (Чт)</th>\n",
       "      <th>16.02 (Пт)</th>\n",
       "      <th>17.02 (Сб)</th>\n",
       "      <th>18.02 (Вс)</th>\n",
       "      <th>19.02 (Пн)</th>\n",
       "      <th>20.02 (Вт)</th>\n",
       "      <th>21.02 (Ср)</th>\n",
       "      <th>22.02 (Чт)</th>\n",
       "    </tr>\n",
       "  </thead>\n",
       "  <tbody>\n",
       "    <tr>\n",
       "      <th>maxTemp</th>\n",
       "      <td>−13</td>\n",
       "      <td>−14</td>\n",
       "      <td>−13</td>\n",
       "      <td>−8</td>\n",
       "      <td>−5</td>\n",
       "      <td>−4</td>\n",
       "      <td>−3</td>\n",
       "      <td>−2</td>\n",
       "      <td>−4</td>\n",
       "      <td>−9</td>\n",
       "    </tr>\n",
       "    <tr>\n",
       "      <th>minTemp</th>\n",
       "      <td>−7</td>\n",
       "      <td>−8</td>\n",
       "      <td>−8</td>\n",
       "      <td>−4</td>\n",
       "      <td>−2</td>\n",
       "      <td>−1</td>\n",
       "      <td>−1</td>\n",
       "      <td>+3</td>\n",
       "      <td>+3</td>\n",
       "      <td>−4</td>\n",
       "    </tr>\n",
       "    <tr>\n",
       "      <th>precipitation</th>\n",
       "      <td>0</td>\n",
       "      <td>0</td>\n",
       "      <td>0,2</td>\n",
       "      <td>3</td>\n",
       "      <td>3,8</td>\n",
       "      <td>0,8</td>\n",
       "      <td>0,8</td>\n",
       "      <td>8,8</td>\n",
       "      <td>0,2</td>\n",
       "      <td>0</td>\n",
       "    </tr>\n",
       "    <tr>\n",
       "      <th>windSpeed</th>\n",
       "      <td>7</td>\n",
       "      <td>8</td>\n",
       "      <td>7</td>\n",
       "      <td>10</td>\n",
       "      <td>10</td>\n",
       "      <td>8</td>\n",
       "      <td>9</td>\n",
       "      <td>15</td>\n",
       "      <td>15</td>\n",
       "      <td>5</td>\n",
       "    </tr>\n",
       "  </tbody>\n",
       "</table>\n",
       "</div>"
      ],
      "text/plain": [
       "              13.02 (Вт) 14.02 (Ср) 15.02 (Чт) 16.02 (Пт) 17.02 (Сб)  \\\n",
       "maxTemp              −13        −14        −13         −8         −5   \n",
       "minTemp               −7         −8         −8         −4         −2   \n",
       "precipitation          0          0        0,2          3        3,8   \n",
       "windSpeed              7          8          7         10         10   \n",
       "\n",
       "              18.02 (Вс) 19.02 (Пн) 20.02 (Вт) 21.02 (Ср) 22.02 (Чт)  \n",
       "maxTemp               −4         −3         −2         −4         −9  \n",
       "minTemp               −1         −1         +3         +3         −4  \n",
       "precipitation        0,8        0,8        8,8        0,2          0  \n",
       "windSpeed              8          9         15         15          5  "
      ]
     },
     "execution_count": 11,
     "metadata": {},
     "output_type": "execute_result"
    }
   ],
   "source": [
    "df.head()"
   ]
  },
  {
   "cell_type": "code",
   "execution_count": 12,
   "metadata": {},
   "outputs": [],
   "source": [
    "name_of_city = u'SOME_CITY_NAME'"
   ]
  },
  {
   "cell_type": "code",
   "execution_count": 13,
   "metadata": {},
   "outputs": [],
   "source": [
    "months_names = (u'января', u'февраля', u'марта', u'апреля', u'мая', u'июня', \n",
    "                u'июля', u'августа', u'сентября', u'октября', u'ноября', u'декабря')"
   ]
  },
  {
   "cell_type": "code",
   "execution_count": 14,
   "metadata": {
    "scrolled": true
   },
   "outputs": [
    {
     "name": "stderr",
     "output_type": "stream",
     "text": [
      "2018-02-17 18:57:24 [pymorphy2.opencorpora_dict.wrapper] INFO: Loading dictionaries from /usr/lib/python3.6/site-packages/pymorphy2_dicts/data\n",
      "2018-02-17 18:57:24 [pymorphy2.opencorpora_dict.wrapper] INFO: format: 2.4, revision: 393442, updated: 2015-01-17T16:03:56.586168\n"
     ]
    }
   ],
   "source": [
    "morph = pymorphy2.MorphAnalyzer()"
   ]
  },
  {
   "cell_type": "code",
   "execution_count": 15,
   "metadata": {},
   "outputs": [
    {
     "name": "stdout",
     "output_type": "stream",
     "text": [
      "14 февраля максимальная температура понизится на 1 градус по сравнению с 13 февраля\n",
      "14 февраля минимальная температура понизится на 1 градус по сравнению с 13 февраля\n",
      "Скорость ветра изменится на 1 единицу 14 февраля по сравнению с 13 февраля\n",
      "В период с 13 февраля по 14 февраля уровень осадков не изменится\n"
     ]
    }
   ],
   "source": [
    "def create_sentences(df, cols_name):\n",
    "    # В день1 похолодает / потеплеет на X градус (-а, -ов) по сравнению с день2\n",
    "    # Скорость ветра изменится на X единиц в день1 по сравнению с день2.\n",
    "    # Уровень осадков повысится / понизится на X единиц за Y дней.\n",
    "    dates = [i.split()[0] for i in cols_name]\n",
    "    days = [i.split('.')[0] for i in dates]\n",
    "    months = (months_names[int(i.split('.')[1]) - 1] for i in dates)\n",
    "    dates = [day + ' ' + month for day, month in zip(days, months)]\n",
    "    cols = [df[i].apply(lambda x: x.replace('−', '-').replace(',', '.')) for i in cols_name]\n",
    "\n",
    "    changes = {i : float(cols[1][i]) - float(cols[0][i]) for i in df.index}        \n",
    "        \n",
    "    def get_changing_str(x, units):\n",
    "        changing_str = None\n",
    "        if x == 0:\n",
    "            changing_str = u'не изменится'\n",
    "        else:\n",
    "            if x > 0:\n",
    "                changing_str = u'повысится'\n",
    "            else:\n",
    "                changing_str = u'понизится'\n",
    "            changing_str += u' на {abs} {morph}'\\\n",
    "                            .format(abs=abs(x),\n",
    "                                    morph=morph.parse(units)[0].make_agree_with_number(abs(x)).word)\n",
    "\n",
    "        return changing_str\n",
    "\n",
    "    create_temp_str = lambda x, s:\\\n",
    "    u'{d1} {s} температура {deg} по сравнению с {d2}'.format(d1=dates[1],\n",
    "                                                            s=s,\n",
    "                                                            deg=get_changing_str(int(x), u'градус'),\n",
    "                                                            d2=dates[0])\n",
    "        \n",
    "    create_precip = lambda x:\\\n",
    "    u'В период с {d1} по {d2} уровень осадков {deg}'.format(d1=dates[0],\n",
    "                                                           d2=dates[1],\n",
    "                                                           deg=get_changing_str(round(x, 1), ''))\n",
    "    \n",
    "    \n",
    "    print(create_temp_str(changes['maxTemp'], u'максимальная'))\n",
    "    print(create_temp_str(changes['minTemp'], u'минимальная'))\n",
    "\n",
    "    print(u'Скорость ветра изменится на {wind_change} {morph} {d1} по сравнению с {d2}'\\\n",
    "          .format(wind_change=int(changes['windSpeed']),\n",
    "                  morph=morph\n",
    "                       .parse(u'единица')[0]\n",
    "                       .inflect({'accs'})\n",
    "                       .make_agree_with_number(abs(int(changes['windSpeed'])))\n",
    "                       .word,\n",
    "                  d2=dates[0],\n",
    "                  d1=dates[1]))\n",
    "    print(create_precip(changes['precipitation']))\n",
    "\n",
    "    \n",
    "create_sentences(df, (df.columns[0], df.columns[1]))"
   ]
  },
  {
   "cell_type": "code",
   "execution_count": 16,
   "metadata": {},
   "outputs": [
    {
     "name": "stdout",
     "output_type": "stream",
     "text": [
      "14 февраля максимальная температура понизится на 1 градус по сравнению с 13 февраля\n",
      "14 февраля минимальная температура понизится на 1 градус по сравнению с 13 февраля\n",
      "Скорость ветра изменится на 1 единицу 14 февраля по сравнению с 13 февраля\n",
      "В период с 13 февраля по 14 февраля уровень осадков не изменится\n"
     ]
    }
   ],
   "source": [
    "create_sentences(df, (df.columns[0], df.columns[1]))"
   ]
  },
  {
   "cell_type": "code",
   "execution_count": 17,
   "metadata": {
    "scrolled": true
   },
   "outputs": [
    {
     "name": "stdout",
     "output_type": "stream",
     "text": [
      "14 февраля максимальная температура понизится на 1 градус по сравнению с 13 февраля\n",
      "14 февраля минимальная температура понизится на 1 градус по сравнению с 13 февраля\n",
      "Скорость ветра изменится на 1 единицу 14 февраля по сравнению с 13 февраля\n",
      "В период с 13 февраля по 14 февраля уровень осадков не изменится\n",
      "15 февраля максимальная температура не изменится по сравнению с 13 февраля\n",
      "15 февраля минимальная температура понизится на 1 градус по сравнению с 13 февраля\n",
      "Скорость ветра изменится на 0 единиц 15 февраля по сравнению с 13 февраля\n",
      "В период с 13 февраля по 15 февраля уровень осадков повысится на 0.2 \n",
      "16 февраля максимальная температура повысится на 5 градусов по сравнению с 13 февраля\n",
      "16 февраля минимальная температура повысится на 3 градуса по сравнению с 13 февраля\n",
      "Скорость ветра изменится на 3 единицы 16 февраля по сравнению с 13 февраля\n",
      "В период с 13 февраля по 16 февраля уровень осадков повысится на 3.0 \n",
      "17 февраля максимальная температура повысится на 8 градусов по сравнению с 13 февраля\n",
      "17 февраля минимальная температура повысится на 5 градусов по сравнению с 13 февраля\n",
      "Скорость ветра изменится на 3 единицы 17 февраля по сравнению с 13 февраля\n",
      "В период с 13 февраля по 17 февраля уровень осадков повысится на 3.8 \n",
      "18 февраля максимальная температура повысится на 9 градусов по сравнению с 13 февраля\n",
      "18 февраля минимальная температура повысится на 6 градусов по сравнению с 13 февраля\n",
      "Скорость ветра изменится на 1 единицу 18 февраля по сравнению с 13 февраля\n",
      "В период с 13 февраля по 18 февраля уровень осадков повысится на 0.8 \n",
      "19 февраля максимальная температура повысится на 10 градусов по сравнению с 13 февраля\n",
      "19 февраля минимальная температура повысится на 6 градусов по сравнению с 13 февраля\n",
      "Скорость ветра изменится на 2 единицы 19 февраля по сравнению с 13 февраля\n",
      "В период с 13 февраля по 19 февраля уровень осадков повысится на 0.8 \n",
      "20 февраля максимальная температура повысится на 11 градусов по сравнению с 13 февраля\n",
      "20 февраля минимальная температура повысится на 10 градусов по сравнению с 13 февраля\n",
      "Скорость ветра изменится на 8 единиц 20 февраля по сравнению с 13 февраля\n",
      "В период с 13 февраля по 20 февраля уровень осадков повысится на 8.8 \n",
      "21 февраля максимальная температура повысится на 9 градусов по сравнению с 13 февраля\n",
      "21 февраля минимальная температура повысится на 10 градусов по сравнению с 13 февраля\n",
      "Скорость ветра изменится на 8 единиц 21 февраля по сравнению с 13 февраля\n",
      "В период с 13 февраля по 21 февраля уровень осадков повысится на 0.2 \n",
      "22 февраля максимальная температура повысится на 4 градуса по сравнению с 13 февраля\n",
      "22 февраля минимальная температура повысится на 3 градуса по сравнению с 13 февраля\n",
      "Скорость ветра изменится на -2 единицы 22 февраля по сравнению с 13 февраля\n",
      "В период с 13 февраля по 22 февраля уровень осадков не изменится\n",
      "15 февраля максимальная температура повысится на 1 градус по сравнению с 14 февраля\n",
      "15 февраля минимальная температура не изменится по сравнению с 14 февраля\n",
      "Скорость ветра изменится на -1 единицу 15 февраля по сравнению с 14 февраля\n",
      "В период с 14 февраля по 15 февраля уровень осадков повысится на 0.2 \n",
      "16 февраля максимальная температура повысится на 6 градусов по сравнению с 14 февраля\n",
      "16 февраля минимальная температура повысится на 4 градуса по сравнению с 14 февраля\n",
      "Скорость ветра изменится на 2 единицы 16 февраля по сравнению с 14 февраля\n",
      "В период с 14 февраля по 16 февраля уровень осадков повысится на 3.0 \n",
      "17 февраля максимальная температура повысится на 9 градусов по сравнению с 14 февраля\n",
      "17 февраля минимальная температура повысится на 6 градусов по сравнению с 14 февраля\n",
      "Скорость ветра изменится на 2 единицы 17 февраля по сравнению с 14 февраля\n",
      "В период с 14 февраля по 17 февраля уровень осадков повысится на 3.8 \n",
      "18 февраля максимальная температура повысится на 10 градусов по сравнению с 14 февраля\n",
      "18 февраля минимальная температура повысится на 7 градусов по сравнению с 14 февраля\n",
      "Скорость ветра изменится на 0 единиц 18 февраля по сравнению с 14 февраля\n",
      "В период с 14 февраля по 18 февраля уровень осадков повысится на 0.8 \n",
      "19 февраля максимальная температура повысится на 11 градусов по сравнению с 14 февраля\n",
      "19 февраля минимальная температура повысится на 7 градусов по сравнению с 14 февраля\n",
      "Скорость ветра изменится на 1 единицу 19 февраля по сравнению с 14 февраля\n",
      "В период с 14 февраля по 19 февраля уровень осадков повысится на 0.8 \n",
      "20 февраля максимальная температура повысится на 12 градусов по сравнению с 14 февраля\n",
      "20 февраля минимальная температура повысится на 11 градусов по сравнению с 14 февраля\n",
      "Скорость ветра изменится на 7 единиц 20 февраля по сравнению с 14 февраля\n",
      "В период с 14 февраля по 20 февраля уровень осадков повысится на 8.8 \n",
      "21 февраля максимальная температура повысится на 10 градусов по сравнению с 14 февраля\n",
      "21 февраля минимальная температура повысится на 11 градусов по сравнению с 14 февраля\n",
      "Скорость ветра изменится на 7 единиц 21 февраля по сравнению с 14 февраля\n",
      "В период с 14 февраля по 21 февраля уровень осадков повысится на 0.2 \n",
      "22 февраля максимальная температура повысится на 5 градусов по сравнению с 14 февраля\n",
      "22 февраля минимальная температура повысится на 4 градуса по сравнению с 14 февраля\n",
      "Скорость ветра изменится на -3 единицы 22 февраля по сравнению с 14 февраля\n",
      "В период с 14 февраля по 22 февраля уровень осадков не изменится\n",
      "16 февраля максимальная температура повысится на 5 градусов по сравнению с 15 февраля\n",
      "16 февраля минимальная температура повысится на 4 градуса по сравнению с 15 февраля\n",
      "Скорость ветра изменится на 3 единицы 16 февраля по сравнению с 15 февраля\n",
      "В период с 15 февраля по 16 февраля уровень осадков повысится на 2.8 \n",
      "17 февраля максимальная температура повысится на 8 градусов по сравнению с 15 февраля\n",
      "17 февраля минимальная температура повысится на 6 градусов по сравнению с 15 февраля\n",
      "Скорость ветра изменится на 3 единицы 17 февраля по сравнению с 15 февраля\n",
      "В период с 15 февраля по 17 февраля уровень осадков повысится на 3.6 \n",
      "18 февраля максимальная температура повысится на 9 градусов по сравнению с 15 февраля\n",
      "18 февраля минимальная температура повысится на 7 градусов по сравнению с 15 февраля\n",
      "Скорость ветра изменится на 1 единицу 18 февраля по сравнению с 15 февраля\n",
      "В период с 15 февраля по 18 февраля уровень осадков повысится на 0.6 \n",
      "19 февраля максимальная температура повысится на 10 градусов по сравнению с 15 февраля\n",
      "19 февраля минимальная температура повысится на 7 градусов по сравнению с 15 февраля\n",
      "Скорость ветра изменится на 2 единицы 19 февраля по сравнению с 15 февраля\n",
      "В период с 15 февраля по 19 февраля уровень осадков повысится на 0.6 \n",
      "20 февраля максимальная температура повысится на 11 градусов по сравнению с 15 февраля\n",
      "20 февраля минимальная температура повысится на 11 градусов по сравнению с 15 февраля\n",
      "Скорость ветра изменится на 8 единиц 20 февраля по сравнению с 15 февраля\n",
      "В период с 15 февраля по 20 февраля уровень осадков повысится на 8.6 \n",
      "21 февраля максимальная температура повысится на 9 градусов по сравнению с 15 февраля\n",
      "21 февраля минимальная температура повысится на 11 градусов по сравнению с 15 февраля\n",
      "Скорость ветра изменится на 8 единиц 21 февраля по сравнению с 15 февраля\n",
      "В период с 15 февраля по 21 февраля уровень осадков не изменится\n",
      "22 февраля максимальная температура повысится на 4 градуса по сравнению с 15 февраля\n",
      "22 февраля минимальная температура повысится на 4 градуса по сравнению с 15 февраля\n",
      "Скорость ветра изменится на -2 единицы 22 февраля по сравнению с 15 февраля\n",
      "В период с 15 февраля по 22 февраля уровень осадков понизится на 0.2 \n",
      "17 февраля максимальная температура повысится на 3 градуса по сравнению с 16 февраля\n",
      "17 февраля минимальная температура повысится на 2 градуса по сравнению с 16 февраля\n",
      "Скорость ветра изменится на 0 единиц 17 февраля по сравнению с 16 февраля\n",
      "В период с 16 февраля по 17 февраля уровень осадков повысится на 0.8 \n",
      "18 февраля максимальная температура повысится на 4 градуса по сравнению с 16 февраля\n",
      "18 февраля минимальная температура повысится на 3 градуса по сравнению с 16 февраля\n",
      "Скорость ветра изменится на -2 единицы 18 февраля по сравнению с 16 февраля\n",
      "В период с 16 февраля по 18 февраля уровень осадков понизится на 2.2 \n",
      "19 февраля максимальная температура повысится на 5 градусов по сравнению с 16 февраля\n",
      "19 февраля минимальная температура повысится на 3 градуса по сравнению с 16 февраля\n",
      "Скорость ветра изменится на -1 единицу 19 февраля по сравнению с 16 февраля\n",
      "В период с 16 февраля по 19 февраля уровень осадков понизится на 2.2 \n",
      "20 февраля максимальная температура повысится на 6 градусов по сравнению с 16 февраля\n",
      "20 февраля минимальная температура повысится на 7 градусов по сравнению с 16 февраля\n",
      "Скорость ветра изменится на 5 единиц 20 февраля по сравнению с 16 февраля\n",
      "В период с 16 февраля по 20 февраля уровень осадков повысится на 5.8 \n",
      "21 февраля максимальная температура повысится на 4 градуса по сравнению с 16 февраля\n",
      "21 февраля минимальная температура повысится на 7 градусов по сравнению с 16 февраля\n",
      "Скорость ветра изменится на 5 единиц 21 февраля по сравнению с 16 февраля\n",
      "В период с 16 февраля по 21 февраля уровень осадков понизится на 2.8 \n",
      "22 февраля максимальная температура понизится на 1 градус по сравнению с 16 февраля\n",
      "22 февраля минимальная температура не изменится по сравнению с 16 февраля\n",
      "Скорость ветра изменится на -5 единиц 22 февраля по сравнению с 16 февраля\n",
      "В период с 16 февраля по 22 февраля уровень осадков понизится на 3.0 \n",
      "18 февраля максимальная температура повысится на 1 градус по сравнению с 17 февраля\n",
      "18 февраля минимальная температура повысится на 1 градус по сравнению с 17 февраля\n",
      "Скорость ветра изменится на -2 единицы 18 февраля по сравнению с 17 февраля\n",
      "В период с 17 февраля по 18 февраля уровень осадков понизится на 3.0 \n",
      "19 февраля максимальная температура повысится на 2 градуса по сравнению с 17 февраля\n",
      "19 февраля минимальная температура повысится на 1 градус по сравнению с 17 февраля\n",
      "Скорость ветра изменится на -1 единицу 19 февраля по сравнению с 17 февраля\n",
      "В период с 17 февраля по 19 февраля уровень осадков понизится на 3.0 \n",
      "20 февраля максимальная температура повысится на 3 градуса по сравнению с 17 февраля\n",
      "20 февраля минимальная температура повысится на 5 градусов по сравнению с 17 февраля\n",
      "Скорость ветра изменится на 5 единиц 20 февраля по сравнению с 17 февраля\n",
      "В период с 17 февраля по 20 февраля уровень осадков повысится на 5.0 \n",
      "21 февраля максимальная температура повысится на 1 градус по сравнению с 17 февраля\n",
      "21 февраля минимальная температура повысится на 5 градусов по сравнению с 17 февраля\n",
      "Скорость ветра изменится на 5 единиц 21 февраля по сравнению с 17 февраля\n",
      "В период с 17 февраля по 21 февраля уровень осадков понизится на 3.6 \n",
      "22 февраля максимальная температура понизится на 4 градуса по сравнению с 17 февраля\n",
      "22 февраля минимальная температура понизится на 2 градуса по сравнению с 17 февраля\n",
      "Скорость ветра изменится на -5 единиц 22 февраля по сравнению с 17 февраля\n",
      "В период с 17 февраля по 22 февраля уровень осадков понизится на 3.8 \n",
      "19 февраля максимальная температура повысится на 1 градус по сравнению с 18 февраля\n",
      "19 февраля минимальная температура не изменится по сравнению с 18 февраля\n",
      "Скорость ветра изменится на 1 единицу 19 февраля по сравнению с 18 февраля\n",
      "В период с 18 февраля по 19 февраля уровень осадков не изменится\n",
      "20 февраля максимальная температура повысится на 2 градуса по сравнению с 18 февраля\n",
      "20 февраля минимальная температура повысится на 4 градуса по сравнению с 18 февраля\n",
      "Скорость ветра изменится на 7 единиц 20 февраля по сравнению с 18 февраля\n",
      "В период с 18 февраля по 20 февраля уровень осадков повысится на 8.0 \n",
      "21 февраля максимальная температура не изменится по сравнению с 18 февраля\n",
      "21 февраля минимальная температура повысится на 4 градуса по сравнению с 18 февраля\n",
      "Скорость ветра изменится на 7 единиц 21 февраля по сравнению с 18 февраля\n",
      "В период с 18 февраля по 21 февраля уровень осадков понизится на 0.6 \n",
      "22 февраля максимальная температура понизится на 5 градусов по сравнению с 18 февраля\n",
      "22 февраля минимальная температура понизится на 3 градуса по сравнению с 18 февраля\n",
      "Скорость ветра изменится на -3 единицы 22 февраля по сравнению с 18 февраля\n",
      "В период с 18 февраля по 22 февраля уровень осадков понизится на 0.8 \n",
      "20 февраля максимальная температура повысится на 1 градус по сравнению с 19 февраля\n",
      "20 февраля минимальная температура повысится на 4 градуса по сравнению с 19 февраля\n",
      "Скорость ветра изменится на 6 единиц 20 февраля по сравнению с 19 февраля\n",
      "В период с 19 февраля по 20 февраля уровень осадков повысится на 8.0 \n",
      "21 февраля максимальная температура понизится на 1 градус по сравнению с 19 февраля\n",
      "21 февраля минимальная температура повысится на 4 градуса по сравнению с 19 февраля\n",
      "Скорость ветра изменится на 6 единиц 21 февраля по сравнению с 19 февраля\n",
      "В период с 19 февраля по 21 февраля уровень осадков понизится на 0.6 \n",
      "22 февраля максимальная температура понизится на 6 градусов по сравнению с 19 февраля\n",
      "22 февраля минимальная температура понизится на 3 градуса по сравнению с 19 февраля\n",
      "Скорость ветра изменится на -4 единицы 22 февраля по сравнению с 19 февраля\n",
      "В период с 19 февраля по 22 февраля уровень осадков понизится на 0.8 \n",
      "21 февраля максимальная температура понизится на 2 градуса по сравнению с 20 февраля\n",
      "21 февраля минимальная температура не изменится по сравнению с 20 февраля\n",
      "Скорость ветра изменится на 0 единиц 21 февраля по сравнению с 20 февраля\n",
      "В период с 20 февраля по 21 февраля уровень осадков понизится на 8.6 \n",
      "22 февраля максимальная температура понизится на 7 градусов по сравнению с 20 февраля\n",
      "22 февраля минимальная температура понизится на 7 градусов по сравнению с 20 февраля\n",
      "Скорость ветра изменится на -10 единиц 22 февраля по сравнению с 20 февраля\n",
      "В период с 20 февраля по 22 февраля уровень осадков понизится на 8.8 \n",
      "22 февраля максимальная температура понизится на 5 градусов по сравнению с 21 февраля\n",
      "22 февраля минимальная температура понизится на 7 градусов по сравнению с 21 февраля\n",
      "Скорость ветра изменится на -10 единиц 22 февраля по сравнению с 21 февраля\n",
      "В период с 21 февраля по 22 февраля уровень осадков понизится на 0.2 \n"
     ]
    }
   ],
   "source": [
    "for ind_i, i in enumerate(df.columns[:-1]):\n",
    "    for j in df.columns[ind_i + 1:]:\n",
    "        create_sentences(df, (i, j))"
   ]
  },
  {
   "cell_type": "markdown",
   "metadata": {},
   "source": [
    "### 3. Ответьте на вопросы [3 балла]\n",
    "**Вопрос:** В каких других задачах (помимо описания прогноза погоды) может понадобиться генерировать текст по шаблонам?\n",
    "\n",
    "**Ответ:** \n",
    "1. Генерация текста по шаблонам может понадобиться в следующих случаях:\n",
    "1. Автоматические новости на новостных сайтах\n",
    "1. Автоматические описания товаров на сайтах интернет магазинов\n",
    "1. Реклама однотипных товаров\n",
    "1. Автоматическая служба поддержки\n",
    "1. Бот, общающийся с пользователем на естественном языке\n",
    "1. Описание изменений курса валют\n",
    "1. Бегущая строка в метро\n",
    "1. Поздравления с праздниками в корпоративных помещениях\n",
    "\n",
    "**Вопрос:** В каких задачах может понадобиться генерировать текст об изменении числовых показателей по шаблонам?\n",
    "\n",
    "**Ответ:**\n",
    "1. Описание изменений курса валют\n",
    "1. Описание состояния показателей производства (производительность, динамика эффективности)\n",
    "1. Генерация отчетов по работе предприятия\n",
    "1. Генерация отчетов по экономических показателям\n",
    "\n",
    "**Вопрос:** Шаблоны, которые вы использовали в этом задании, имеют фиксированную структуру. Фактически, ваша задача заключалась в том, чтобы подставить в шаблон число и согласовать единицы измерения с этим числом или подставить в шаблон название города и согласовать его с предлогом. Как можно разнообразить эти шаблоны? Как знание синтаксической структуры предложения может помочь в этой задаче? \n",
    "\n",
    "**Ответ:** Можно добавить новые шаблоны. Или например, динамически формировать полностью предложения вместо некоторых подстановок. Знание синтаксической структуры позволяет достаточно легко осуществлять подстановки, согласованные с остальными словами предложения."
   ]
  },
  {
   "cell_type": "markdown",
   "metadata": {},
   "source": [
    "EOF"
   ]
  }
 ],
 "metadata": {
  "kernelspec": {
   "display_name": "Python 3",
   "language": "python",
   "name": "python3"
  },
  "language_info": {
   "codemirror_mode": {
    "name": "ipython",
    "version": 2
   },
   "file_extension": ".py",
   "mimetype": "text/x-python",
   "name": "python",
   "nbconvert_exporter": "python",
   "pygments_lexer": "ipython2",
   "version": "2.7.14"
  },
  "varInspector": {
   "cols": {
    "lenName": 16,
    "lenType": 16,
    "lenVar": 40
   },
   "kernels_config": {
    "python": {
     "delete_cmd_postfix": "",
     "delete_cmd_prefix": "del ",
     "library": "var_list.py",
     "varRefreshCmd": "print(var_dic_list())"
    },
    "r": {
     "delete_cmd_postfix": ") ",
     "delete_cmd_prefix": "rm(",
     "library": "var_list.r",
     "varRefreshCmd": "cat(var_dic_list()) "
    }
   },
   "types_to_exclude": [
    "module",
    "function",
    "builtin_function_or_method",
    "instance",
    "_Feature"
   ],
   "window_display": false
  }
 },
 "nbformat": 4,
 "nbformat_minor": 2
}
