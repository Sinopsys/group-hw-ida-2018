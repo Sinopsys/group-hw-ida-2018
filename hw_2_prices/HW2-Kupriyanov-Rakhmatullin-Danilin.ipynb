{
 "cells": [
  {
   "cell_type": "markdown",
   "metadata": {},
   "source": [
    "# Майнор \"Прикладные задачи анализа данных\"\n",
    "## Домашнее задание 2 [10 баллов] до 23:59 22.03.2018. Предсказание цены акции по экономическим новостям\n",
    "\n",
    "\n",
    "В этом домашнем задании вы попытаетесь предсказать рост цены акции компании Газпром по новостям о компании. Домашнее задание состоит из трех частей:\n",
    "1. Предварительная обработка текстов и эксплоративный анализ\n",
    "2. Baseline алгоритм\n",
    "3. Творческая часть\n",
    "\n",
    "Все три части можно считать независимыми – вы можете сделать одну или две из них, однако мы настоятельно советуем выполнить все три. Все инструкции по выполнению домашнего задания – ниже. \n",
    "\n",
    "\n",
    "\n",
    "Входные данные:\n",
    "* Новости о компании \"Газпром\", начиная с 2010 года\n",
    "* Стоимость акций компании \"Газпром\" на ММВБ, начиная с 2010 года\n",
    "    * цена открытия (Open)\n",
    "    * цена закрытия (ClosingPrice)\n",
    "    * максимальная цена за день (DailyHigh)\n",
    "    * минимальная цена за день (DailyLow) \n",
    "    * объем бумаг (VolumePcs)\n"
   ]
  },
  {
   "cell_type": "code",
   "execution_count": 1,
   "metadata": {},
   "outputs": [
    {
     "name": "stdout",
     "output_type": "stream",
     "text": [
      "Populating the interactive namespace from numpy and matplotlib\n"
     ]
    }
   ],
   "source": [
    "import pandas as pd\n",
    "import re\n",
    "import string\n",
    "import scipy.stats as sts\n",
    "import matplotlib.pyplot as plt\n",
    "%pylab inline\n",
    "\n",
    "from sklearn.feature_extraction.text import CountVectorizer\n",
    "from nltk.tokenize import word_tokenize\n",
    "from nltk.stem.snowball import RussianStemmer\n",
    "from nltk.corpus import stopwords"
   ]
  },
  {
   "cell_type": "code",
   "execution_count": 2,
   "metadata": {},
   "outputs": [
    {
     "data": {
      "text/html": [
       "<div>\n",
       "<style scoped>\n",
       "    .dataframe tbody tr th:only-of-type {\n",
       "        vertical-align: middle;\n",
       "    }\n",
       "\n",
       "    .dataframe tbody tr th {\n",
       "        vertical-align: top;\n",
       "    }\n",
       "\n",
       "    .dataframe thead th {\n",
       "        text-align: right;\n",
       "    }\n",
       "</style>\n",
       "<table border=\"1\" class=\"dataframe\">\n",
       "  <thead>\n",
       "    <tr style=\"text-align: right;\">\n",
       "      <th></th>\n",
       "      <th>date</th>\n",
       "      <th>text</th>\n",
       "    </tr>\n",
       "  </thead>\n",
       "  <tbody>\n",
       "    <tr>\n",
       "      <th>0</th>\n",
       "      <td>09.11.2017</td>\n",
       "      <td>Компания рассчитывает на решение по газовому с...</td>\n",
       "    </tr>\n",
       "    <tr>\n",
       "      <th>1</th>\n",
       "      <td>08.11.2017</td>\n",
       "      <td>Как и предполагал “Ъ”, «Газпром», воспользова...</td>\n",
       "    </tr>\n",
       "    <tr>\n",
       "      <th>2</th>\n",
       "      <td>01.11.2017</td>\n",
       "      <td>Новая редакция американских санкций ставит по...</td>\n",
       "    </tr>\n",
       "    <tr>\n",
       "      <th>3</th>\n",
       "      <td>30.10.2017</td>\n",
       "      <td>Как стало известно “Ъ”, известный на рынке ри...</td>\n",
       "    </tr>\n",
       "    <tr>\n",
       "      <th>4</th>\n",
       "      <td>23.10.2017</td>\n",
       "      <td>НОВАТЭК, который через пять лет собирается за...</td>\n",
       "    </tr>\n",
       "  </tbody>\n",
       "</table>\n",
       "</div>"
      ],
      "text/plain": [
       "         date                                               text\n",
       "0  09.11.2017  Компания рассчитывает на решение по газовому с...\n",
       "1  08.11.2017   Как и предполагал “Ъ”, «Газпром», воспользова...\n",
       "2  01.11.2017   Новая редакция американских санкций ставит по...\n",
       "3  30.10.2017   Как стало известно “Ъ”, известный на рынке ри...\n",
       "4  23.10.2017   НОВАТЭК, который через пять лет собирается за..."
      ]
     },
     "execution_count": 2,
     "metadata": {},
     "output_type": "execute_result"
    }
   ],
   "source": [
    "df_orig = pd.read_csv('texts.csv', encoding='utf_8')\n",
    "df = df_orig.copy()\n",
    "df.head()"
   ]
  },
  {
   "cell_type": "code",
   "execution_count": 3,
   "metadata": {},
   "outputs": [
    {
     "data": {
      "text/html": [
       "<div>\n",
       "<style scoped>\n",
       "    .dataframe tbody tr th:only-of-type {\n",
       "        vertical-align: middle;\n",
       "    }\n",
       "\n",
       "    .dataframe tbody tr th {\n",
       "        vertical-align: top;\n",
       "    }\n",
       "\n",
       "    .dataframe thead th {\n",
       "        text-align: right;\n",
       "    }\n",
       "</style>\n",
       "<table border=\"1\" class=\"dataframe\">\n",
       "  <thead>\n",
       "    <tr style=\"text-align: right;\">\n",
       "      <th></th>\n",
       "      <th>Date</th>\n",
       "      <th>Open</th>\n",
       "      <th>ClosingPrice</th>\n",
       "      <th>DailyHigh</th>\n",
       "      <th>DailyLow</th>\n",
       "      <th>VolumePcs</th>\n",
       "    </tr>\n",
       "  </thead>\n",
       "  <tbody>\n",
       "    <tr>\n",
       "      <th>0</th>\n",
       "      <td>08.12.2017</td>\n",
       "      <td>133,43000</td>\n",
       "      <td>132,60000</td>\n",
       "      <td>133,90000</td>\n",
       "      <td>132,00000</td>\n",
       "      <td>16037970</td>\n",
       "    </tr>\n",
       "    <tr>\n",
       "      <th>1</th>\n",
       "      <td>07.12.2017</td>\n",
       "      <td>133,70000</td>\n",
       "      <td>133,02000</td>\n",
       "      <td>133,87000</td>\n",
       "      <td>132,81000</td>\n",
       "      <td>18198430</td>\n",
       "    </tr>\n",
       "    <tr>\n",
       "      <th>2</th>\n",
       "      <td>06.12.2017</td>\n",
       "      <td>133,33000</td>\n",
       "      <td>134,00000</td>\n",
       "      <td>134,29000</td>\n",
       "      <td>132,91000</td>\n",
       "      <td>14641730</td>\n",
       "    </tr>\n",
       "    <tr>\n",
       "      <th>3</th>\n",
       "      <td>05.12.2017</td>\n",
       "      <td>133,48000</td>\n",
       "      <td>133,65000</td>\n",
       "      <td>133,99000</td>\n",
       "      <td>132,78000</td>\n",
       "      <td>12684800</td>\n",
       "    </tr>\n",
       "    <tr>\n",
       "      <th>4</th>\n",
       "      <td>04.12.2017</td>\n",
       "      <td>133,01000</td>\n",
       "      <td>133,77000</td>\n",
       "      <td>134,00000</td>\n",
       "      <td>131,93000</td>\n",
       "      <td>17818980</td>\n",
       "    </tr>\n",
       "  </tbody>\n",
       "</table>\n",
       "</div>"
      ],
      "text/plain": [
       "         Date       Open ClosingPrice  DailyHigh   DailyLow  VolumePcs\n",
       "0  08.12.2017  133,43000    132,60000  133,90000  132,00000   16037970\n",
       "1  07.12.2017  133,70000    133,02000  133,87000  132,81000   18198430\n",
       "2  06.12.2017  133,33000    134,00000  134,29000  132,91000   14641730\n",
       "3  05.12.2017  133,48000    133,65000  133,99000  132,78000   12684800\n",
       "4  04.12.2017  133,01000    133,77000  134,00000  131,93000   17818980"
      ]
     },
     "execution_count": 3,
     "metadata": {},
     "output_type": "execute_result"
    }
   ],
   "source": [
    "pr_all = pd.read_csv('gazprom_prices.csv', sep=';', encoding='utf_8')\n",
    "pr_all.head()"
   ]
  },
  {
   "cell_type": "markdown",
   "metadata": {},
   "source": [
    "## Часть 1. Вводная [3 балла]\n",
    "\n",
    "Проведите предобработку текстов: если считаете нужным, выполните токенизацию, приведение к нижнему регистру, лемматизацию и/или стемминг. Ответьте на следующие вопросы:\n",
    "* Есть ли корреляция между средней длинной текста за день и ценой закрытия?\n",
    "* Есть ли корреляция между количеством упоминаний Алексея Миллера  и ценой закрытия? Учтите разные варианты написания имени.\n",
    "* Упоминаний какого газопровода в статьях больше: \n",
    "    * \"северный поток\"\n",
    "    * \"турецкий поток\"?\n",
    "* Кого упоминают чаще:\n",
    "    * Алексея Миллера\n",
    "    * Владимира Путина?\n",
    "* О каких санкциях пишут в статьях?"
   ]
  },
  {
   "cell_type": "markdown",
   "metadata": {},
   "source": [
    "Проведём предобработку данных."
   ]
  },
  {
   "cell_type": "code",
   "execution_count": 4,
   "metadata": {},
   "outputs": [],
   "source": [
    "idx = df['text'].str.contains('^\\s*$', flags=re.IGNORECASE, regex=True, na=False)"
   ]
  },
  {
   "cell_type": "code",
   "execution_count": 5,
   "metadata": {},
   "outputs": [
    {
     "data": {
      "text/plain": [
       "1198    False\n",
       "1199    False\n",
       "1200    False\n",
       "1201    False\n",
       "1202     True\n",
       "Name: text, dtype: bool"
      ]
     },
     "execution_count": 5,
     "metadata": {},
     "output_type": "execute_result"
    }
   ],
   "source": [
    "idx.tail()"
   ]
  },
  {
   "cell_type": "markdown",
   "metadata": {},
   "source": [
    "Видим, что некоторые новости вовсе пустые. Избавимся от них!"
   ]
  },
  {
   "cell_type": "code",
   "execution_count": 6,
   "metadata": {},
   "outputs": [],
   "source": [
    "df = df[~idx]"
   ]
  },
  {
   "cell_type": "code",
   "execution_count": 7,
   "metadata": {},
   "outputs": [
    {
     "data": {
      "text/html": [
       "<div>\n",
       "<style scoped>\n",
       "    .dataframe tbody tr th:only-of-type {\n",
       "        vertical-align: middle;\n",
       "    }\n",
       "\n",
       "    .dataframe tbody tr th {\n",
       "        vertical-align: top;\n",
       "    }\n",
       "\n",
       "    .dataframe thead th {\n",
       "        text-align: right;\n",
       "    }\n",
       "</style>\n",
       "<table border=\"1\" class=\"dataframe\">\n",
       "  <thead>\n",
       "    <tr style=\"text-align: right;\">\n",
       "      <th></th>\n",
       "      <th>date</th>\n",
       "      <th>text</th>\n",
       "    </tr>\n",
       "  </thead>\n",
       "  <tbody>\n",
       "    <tr>\n",
       "      <th>0</th>\n",
       "      <td>09.11.2017</td>\n",
       "      <td>Компания рассчитывает на решение по газовому с...</td>\n",
       "    </tr>\n",
       "    <tr>\n",
       "      <th>1</th>\n",
       "      <td>08.11.2017</td>\n",
       "      <td>Как и предполагал “Ъ”, «Газпром», воспользова...</td>\n",
       "    </tr>\n",
       "    <tr>\n",
       "      <th>2</th>\n",
       "      <td>01.11.2017</td>\n",
       "      <td>Новая редакция американских санкций ставит по...</td>\n",
       "    </tr>\n",
       "    <tr>\n",
       "      <th>3</th>\n",
       "      <td>30.10.2017</td>\n",
       "      <td>Как стало известно “Ъ”, известный на рынке ри...</td>\n",
       "    </tr>\n",
       "    <tr>\n",
       "      <th>4</th>\n",
       "      <td>23.10.2017</td>\n",
       "      <td>НОВАТЭК, который через пять лет собирается за...</td>\n",
       "    </tr>\n",
       "  </tbody>\n",
       "</table>\n",
       "</div>"
      ],
      "text/plain": [
       "         date                                               text\n",
       "0  09.11.2017  Компания рассчитывает на решение по газовому с...\n",
       "1  08.11.2017   Как и предполагал “Ъ”, «Газпром», воспользова...\n",
       "2  01.11.2017   Новая редакция американских санкций ставит по...\n",
       "3  30.10.2017   Как стало известно “Ъ”, известный на рынке ри...\n",
       "4  23.10.2017   НОВАТЭК, который через пять лет собирается за..."
      ]
     },
     "execution_count": 7,
     "metadata": {},
     "output_type": "execute_result"
    }
   ],
   "source": [
    "df.head()"
   ]
  },
  {
   "cell_type": "markdown",
   "metadata": {},
   "source": [
    "`CountVectorizer` не берёт слова длинной 1 (например Ъ), а так же считает, что все слова в нижнем регистре."
   ]
  },
  {
   "cell_type": "code",
   "execution_count": 8,
   "metadata": {
    "scrolled": true
   },
   "outputs": [
    {
     "name": "stdout",
     "output_type": "stream",
     "text": [
      "Как\n",
      "предполагал\n",
      "Газпром\n",
      "воспользовавшись\n",
      "жалобами\n",
      "иностранных\n",
      "партнеров\n",
      "на\n",
      "налогообложение\n",
      "добычных\n",
      "проектов\n",
      "РФ\n",
      "смог\n",
      "добиться\n",
      "снижения\n",
      "налога\n",
      "на\n",
      "добычу\n",
      "полезных\n",
      "ископаемых\n",
      "НДПИ\n",
      "для\n",
      "своих\n",
      "ачимовских\n",
      "залежей\n",
      "почти\n",
      "до\n",
      "уровня\n",
      "независимых\n",
      "производителей\n",
      "газа\n",
      "Эта\n",
      "льгота\n",
      "распространится\n",
      "не\n",
      "только\n",
      "на\n",
      "СП\n",
      "Газпрома\n",
      "OMV\n",
      "Wintershall\n",
      "но\n",
      "на\n",
      "структуры\n",
      "монополии\n",
      "разрабатывающие\n",
      "месторождения\n",
      "запасами\n",
      "от\n",
      "трлн\n",
      "кубометров\n",
      "газа\n",
      "По\n",
      "расчетам\n",
      "это\n",
      "приведет\n",
      "тому\n",
      "что\n",
      "2018\n",
      "году\n",
      "платеж\n",
      "по\n",
      "НДПИ\n",
      "для\n",
      "Газпрома\n",
      "его\n",
      "ачимовских\n",
      "СП\n",
      "снизится\n",
      "на\n",
      "млрд\n",
      "руб\n",
      "из\n",
      "которых\n",
      "млрд\n",
      "руб\n",
      "сэкономит\n",
      "сама\n",
      "монополия\n"
     ]
    }
   ],
   "source": [
    "for i in (CountVectorizer().build_tokenizer()(df['text'].values[1])):\n",
    "    print(i)"
   ]
  },
  {
   "cell_type": "code",
   "execution_count": 9,
   "metadata": {},
   "outputs": [
    {
     "name": "stdout",
     "output_type": "stream",
     "text": [
      "Как\n",
      "и\n",
      "предполагал\n",
      "“\n",
      "Ъ\n",
      "”\n",
      ",\n",
      "«\n",
      "Газпром\n",
      "»\n",
      ",\n",
      "воспользовавшись\n",
      "жалобами\n",
      "иностранных\n",
      "партнеров\n",
      "на\n",
      "налогообложение\n",
      "добычных\n",
      "проектов\n",
      "в\n",
      "РФ\n",
      ",\n",
      "смог\n",
      "добиться\n",
      "снижения\n",
      "налога\n",
      "на\n",
      "добычу\n",
      "полезных\n",
      "ископаемых\n",
      "(\n",
      "НДПИ\n",
      ")\n",
      "для\n",
      "своих\n",
      "ачимовских\n",
      "залежей\n",
      "почти\n",
      "до\n",
      "уровня\n",
      "независимых\n",
      "производителей\n",
      "газа\n",
      ".\n",
      "Эта\n",
      "льгота\n",
      "распространится\n",
      "не\n",
      "только\n",
      "на\n",
      "СП\n",
      "«\n",
      "Газпрома\n",
      "»\n",
      "с\n",
      "OMV\n",
      "и\n",
      "Wintershall\n",
      ",\n",
      "но\n",
      "и\n",
      "на\n",
      "структуры\n",
      "монополии\n",
      ",\n",
      "разрабатывающие\n",
      "месторождения\n",
      "с\n",
      "запасами\n",
      "от\n",
      "1\n",
      "трлн\n",
      "кубометров\n",
      "газа\n",
      ".\n",
      "По\n",
      "расчетам\n",
      "“\n",
      "Ъ\n",
      "”\n",
      ",\n",
      "это\n",
      "приведет\n",
      "к\n",
      "тому\n",
      ",\n",
      "что\n",
      "в\n",
      "2018\n",
      "году\n",
      "платеж\n",
      "по\n",
      "НДПИ\n",
      "для\n",
      "«\n",
      "Газпрома\n",
      "»\n",
      "и\n",
      "его\n",
      "ачимовских\n",
      "СП\n",
      "снизится\n",
      "на\n",
      "2,8\n",
      "млрд\n",
      "руб.\n",
      ",\n",
      "из\n",
      "которых\n",
      "2,2\n",
      "млрд\n",
      "руб\n",
      ".\n",
      "сэкономит\n",
      "сама\n",
      "монополия\n",
      ".\n"
     ]
    }
   ],
   "source": [
    "for i in word_tokenize(df['text'].values[1]):\n",
    "    print(i)"
   ]
  },
  {
   "cell_type": "markdown",
   "metadata": {},
   "source": [
    "Очевидно, что `CountVectorizer` подходит больше, чем `word_tokenize` из `nltk`. Будем использовать его."
   ]
  },
  {
   "cell_type": "markdown",
   "metadata": {},
   "source": [
    "Проведём стемминг. Благодяря нему, например, слова \"вагонам\", \"вагоне\", \"вагоны\", \"вагону\" будут считаться за одно. Поскольку стемминг уменьшает количество уникальных слов в словаре, это так же увеличивает скорость вычислений. Модуль `nltk.stem` предлагает несколько стеммеров, воспользуемся одним из самых популярных -- `Snowball`."
   ]
  },
  {
   "cell_type": "code",
   "execution_count": 10,
   "metadata": {},
   "outputs": [
    {
     "name": "stdout",
     "output_type": "stream",
     "text": [
      "вагон\n",
      "вагон\n",
      "вагон\n",
      "вагон\n"
     ]
    }
   ],
   "source": [
    "stemmer = RussianStemmer()\n",
    "words = [u'вагонам', u'вагоне', u'вагоны', u'вагону']\n",
    "for i in [stemmer.stem(w) for w in words]:\n",
    "    print(i)"
   ]
  },
  {
   "cell_type": "code",
   "execution_count": 11,
   "metadata": {},
   "outputs": [
    {
     "name": "stdout",
     "output_type": "stream",
     "text": [
      "вагон\n"
     ]
    }
   ],
   "source": [
    "print (stemmer.stem(u'вагон'))"
   ]
  },
  {
   "cell_type": "markdown",
   "metadata": {},
   "source": [
    "Теперь объеденим всё в один метод."
   ]
  },
  {
   "cell_type": "code",
   "execution_count": 12,
   "metadata": {},
   "outputs": [],
   "source": [
    "df_bak = df.copy()"
   ]
  },
  {
   "cell_type": "code",
   "execution_count": 13,
   "metadata": {},
   "outputs": [],
   "source": [
    "def text_process(mess):\n",
    "    '''\n",
    "    1. Удаляет пунктуацию\n",
    "    2. Удаляет стоп-слова\n",
    "    3. Приводит к нижнему регистру\n",
    "    4. Токенизирует\n",
    "    5. Проводит стемминг\n",
    "    6. Возвращает лист чистого текста\n",
    "    '''\n",
    "    \n",
    "    nopunc = [char for char in mess if char not in string.punctuation]\n",
    "    nopunc = ''.join(nopunc).lower()\n",
    "    words = CountVectorizer().build_tokenizer()(nopunc)\n",
    "    stemmer = RussianStemmer()\n",
    "    stemmed = [stemmer.stem(w) for w in words]\n",
    "    res = [word for word in stemmed if word not in stopwords.words('russian')]\n",
    "    return ' '.join(res)"
   ]
  },
  {
   "cell_type": "code",
   "execution_count": 14,
   "metadata": {},
   "outputs": [],
   "source": [
    "clean_text = df['text'].apply(text_process)"
   ]
  },
  {
   "cell_type": "code",
   "execution_count": 15,
   "metadata": {},
   "outputs": [],
   "source": [
    "df['text'] = clean_text"
   ]
  },
  {
   "cell_type": "code",
   "execution_count": 16,
   "metadata": {},
   "outputs": [
    {
     "data": {
      "text/html": [
       "<div>\n",
       "<style scoped>\n",
       "    .dataframe tbody tr th:only-of-type {\n",
       "        vertical-align: middle;\n",
       "    }\n",
       "\n",
       "    .dataframe tbody tr th {\n",
       "        vertical-align: top;\n",
       "    }\n",
       "\n",
       "    .dataframe thead th {\n",
       "        text-align: right;\n",
       "    }\n",
       "</style>\n",
       "<table border=\"1\" class=\"dataframe\">\n",
       "  <thead>\n",
       "    <tr style=\"text-align: right;\">\n",
       "      <th></th>\n",
       "      <th>date</th>\n",
       "      <th>text</th>\n",
       "    </tr>\n",
       "  </thead>\n",
       "  <tbody>\n",
       "    <tr>\n",
       "      <th>0</th>\n",
       "      <td>09.11.2017</td>\n",
       "      <td>компан рассчитыва решен газов спор украин конц...</td>\n",
       "    </tr>\n",
       "    <tr>\n",
       "      <th>1</th>\n",
       "      <td>08.11.2017</td>\n",
       "      <td>предполага газпр воспользова жалоб иностра пар...</td>\n",
       "    </tr>\n",
       "    <tr>\n",
       "      <th>2</th>\n",
       "      <td>01.11.2017</td>\n",
       "      <td>нов редакц американск санкц став угроз зарубеж...</td>\n",
       "    </tr>\n",
       "    <tr>\n",
       "      <th>3</th>\n",
       "      <td>30.10.2017</td>\n",
       "      <td>стал известн известн рынк рискменеджер итспеци...</td>\n",
       "    </tr>\n",
       "    <tr>\n",
       "      <th>4</th>\n",
       "      <td>23.10.2017</td>\n",
       "      <td>новатэк котор пят лет собира запуст камчатк кр...</td>\n",
       "    </tr>\n",
       "  </tbody>\n",
       "</table>\n",
       "</div>"
      ],
      "text/plain": [
       "         date                                               text\n",
       "0  09.11.2017  компан рассчитыва решен газов спор украин конц...\n",
       "1  08.11.2017  предполага газпр воспользова жалоб иностра пар...\n",
       "2  01.11.2017  нов редакц американск санкц став угроз зарубеж...\n",
       "3  30.10.2017  стал известн известн рынк рискменеджер итспеци...\n",
       "4  23.10.2017  новатэк котор пят лет собира запуст камчатк кр..."
      ]
     },
     "execution_count": 16,
     "metadata": {},
     "output_type": "execute_result"
    }
   ],
   "source": [
    "df.head()"
   ]
  },
  {
   "cell_type": "code",
   "execution_count": 17,
   "metadata": {},
   "outputs": [],
   "source": [
    "l = []\n",
    "for i in df['text'].values:\n",
    "    l.append(len(i))"
   ]
  },
  {
   "cell_type": "code",
   "execution_count": 18,
   "metadata": {},
   "outputs": [],
   "source": [
    "df['length'] = pd.Series(l)"
   ]
  },
  {
   "cell_type": "code",
   "execution_count": 19,
   "metadata": {},
   "outputs": [],
   "source": [
    "d = []\n",
    "for date in pr_all['Date'].values:\n",
    "    curr_len = df.loc[df['date'] == date, 'length']\n",
    "    if curr_len.shape != (0,):\n",
    "        d.append({'date': date,\n",
    "                  'length': curr_len.values[0],\n",
    "                  'price': pr_all.loc[pr_all['Date'] == date, 'ClosingPrice'].values[0]})\n",
    "\n",
    "compare_df = pd.DataFrame(d)\n",
    "compare_df['length'] = compare_df['length'].astype(float)\n",
    "compare_df['price'] = compare_df['price'].str.replace(',', '.').astype(float)"
   ]
  },
  {
   "cell_type": "code",
   "execution_count": 20,
   "metadata": {},
   "outputs": [],
   "source": [
    "# Нормализуем величины.\n",
    "# compare_df['length'] = (compare_df['length'] - np.mean(compare_df['length'])) / np.std(compare_df['length'])\n",
    "# compare_df['price'] = (compare_df['price'] - np.mean(compare_df['price'])) / np.std(compare_df['price'])\n",
    "# compare_df.head()"
   ]
  },
  {
   "cell_type": "code",
   "execution_count": 21,
   "metadata": {},
   "outputs": [
    {
     "data": {
      "image/png": "[encoded data removed]",
      "text/plain": [
       "<matplotlib.figure.Figure at 0x7f0543bd8590>"
      ]
     },
     "metadata": {},
     "output_type": "display_data"
    }
   ],
   "source": [
    "plt.scatter(compare_df['length'], compare_df['price'], label='len-price')\n",
    "plt.legend()\n",
    "plt.title(r'Price of length dependancy')\n",
    "plt.grid(1)\n",
    "plt.show()"
   ]
  },
  {
   "cell_type": "code",
   "execution_count": 22,
   "metadata": {},
   "outputs": [
    {
     "data": {
      "text/plain": [
       "0.016147036755291833"
      ]
     },
     "execution_count": 22,
     "metadata": {},
     "output_type": "execute_result"
    }
   ],
   "source": [
    "r = sts.pearsonr(compare_df['length'], compare_df['price'])[0]\n",
    "r"
   ]
  },
  {
   "cell_type": "code",
   "execution_count": 23,
   "metadata": {},
   "outputs": [
    {
     "data": {
      "text/plain": [
       "-0.003923616826558613"
      ]
     },
     "execution_count": 23,
     "metadata": {},
     "output_type": "execute_result"
    }
   ],
   "source": [
    "rho = sts.spearmanr(compare_df['length'], compare_df['price'])[0]\n",
    "rho"
   ]
  },
  {
   "cell_type": "markdown",
   "metadata": {},
   "source": [
    "Корреляции между длиной новости и ценой закрытия нет никакой."
   ]
  },
  {
   "cell_type": "code",
   "execution_count": 24,
   "metadata": {},
   "outputs": [
    {
     "name": "stdout",
     "output_type": "stream",
     "text": [
      "алекс\n",
      "алекс\n",
      "алексе\n",
      "алексе\n",
      "миллер\n",
      "миллер\n",
      "миллер\n"
     ]
    }
   ],
   "source": [
    "# Стеммер иногда делает \"алекс\", а иногда \"алексе\". Но \"миллер\" всегда одинаков.\n",
    "#\n",
    "words = [u'алексей', u'алексею', u'алексеем', u'алексея', u'миллеру', u'миллера', u'миллером']\n",
    "for w in words:\n",
    "    print(stemmer.stem(w))"
   ]
  },
  {
   "cell_type": "code",
   "execution_count": 25,
   "metadata": {},
   "outputs": [],
   "source": [
    "compare_df['miller'] = df['text'].str.contains(u'алекс миллер|алексе миллер', regex=True, na=False)"
   ]
  },
  {
   "cell_type": "code",
   "execution_count": 26,
   "metadata": {},
   "outputs": [
    {
     "data": {
      "text/plain": [
       "99"
      ]
     },
     "execution_count": 26,
     "metadata": {},
     "output_type": "execute_result"
    }
   ],
   "source": [
    "compare_df['miller'] = compare_df['miller'].astype(int)\n",
    "compare_df.loc[compare_df['miller'] == 1, 'miller'].count()"
   ]
  },
  {
   "cell_type": "markdown",
   "metadata": {},
   "source": [
    "Насколько зависит цена закрытия акции от количества упоминаний Алексея Миллера в новостях за этот день?\n",
    "\n",
    "Посмотрим сначала на коэффициент ранговой корреляции, а потом проверим гипотезу о том, что средние по второй величине различаются при 1 и 0 в бинарной величине, для того чтобы подтвердить статистическую значимость ранговой корреляции."
   ]
  },
  {
   "cell_type": "code",
   "execution_count": 27,
   "metadata": {},
   "outputs": [
    {
     "data": {
      "text/plain": [
       "0.07366900658183365"
      ]
     },
     "execution_count": 27,
     "metadata": {},
     "output_type": "execute_result"
    }
   ],
   "source": [
    "rho = sts.spearmanr(compare_df['miller'], compare_df['price'])[0]\n",
    "rho"
   ]
  },
  {
   "cell_type": "markdown",
   "metadata": {},
   "source": [
    "7% на большой выборке - не такая уж и маленькая величина."
   ]
  },
  {
   "cell_type": "markdown",
   "metadata": {},
   "source": [
    "Посчитаем среднее для цен закрытия в дни без упоминания А. Миллера."
   ]
  },
  {
   "cell_type": "code",
   "execution_count": 28,
   "metadata": {},
   "outputs": [
    {
     "name": "stdout",
     "output_type": "stream",
     "text": [
      "Среднее по выборке при 0: 149.446\n",
      "Среднее по выборке при 1: 99.000\n",
      "Стандатрное отклонение на выборке: 23.370\n",
      "Выборка размера 99\n"
     ]
    }
   ],
   "source": [
    "mu = compare_df.loc[compare_df['miller'] == 0, 'price'].mean()\n",
    "x_bar = compare_df.loc[compare_df['miller'] == 1, 'price'].mean()\n",
    "std = compare_df.loc[compare_df['miller'] == 0, 'price'].std()\n",
    "n = x_bar = compare_df.loc[compare_df['miller'] == 1, 'price'].count()\n",
    "\n",
    "print('Среднее по выборке при 0: {0:.3f}\\nСреднее по выборке при 1: {1:.3f}\\n\\\n",
    "Стандатрное отклонение на выборке: {2:.3f}\\nВыборка размера {3}'.format(mu, x_bar, std, n))"
   ]
  },
  {
   "cell_type": "markdown",
   "metadata": {},
   "source": [
    "При тестировании гипотезы будем предполагать нормальность распределения величин.\n",
    "\n",
    "$H_0$: $\\mu = 149.446$\n",
    "\n",
    "$H_1$: $\\mu \\neq 149.446$ (упоминание А. Миллера влияет на цену)\n",
    "\n",
    "$\\alpha = 0.05$\n",
    "\n",
    "$\\bar{x} = 154.259$\n",
    "\n",
    "$\\sigma = 23.37$\n"
   ]
  },
  {
   "cell_type": "code",
   "execution_count": 29,
   "metadata": {},
   "outputs": [
    {
     "data": {
      "text/plain": [
       "2.049154700382606"
      ]
     },
     "execution_count": 29,
     "metadata": {},
     "output_type": "execute_result"
    }
   ],
   "source": [
    "t = (154.259 - 149.446) / (23.37 / sqrt(99))\n",
    "t"
   ]
  },
  {
   "cell_type": "markdown",
   "metadata": {},
   "source": [
    "Это двухсторонний тест с уровнем значимости $0.5$. Сравниваем с положительным критическим значением $1.96$."
   ]
  },
  {
   "cell_type": "code",
   "execution_count": 30,
   "metadata": {},
   "outputs": [
    {
     "data": {
      "text/plain": [
       "True"
      ]
     },
     "execution_count": 30,
     "metadata": {},
     "output_type": "execute_result"
    }
   ],
   "source": [
    "t > 1.96"
   ]
  },
  {
   "cell_type": "markdown",
   "metadata": {},
   "source": [
    "Вычисленная $t$ статистика попала в Rejection Region. Значит $H_0$ отвергается и упоминания А.Миллера _действительно_ влияют на цену закрытия."
   ]
  },
  {
   "cell_type": "markdown",
   "metadata": {},
   "source": [
    "Количество упоминаний 'северный поток' и 'турецкий поток'"
   ]
  },
  {
   "cell_type": "code",
   "execution_count": 28,
   "metadata": {},
   "outputs": [
    {
     "data": {
      "text/plain": [
       "12"
      ]
     },
     "execution_count": 28,
     "metadata": {},
     "output_type": "execute_result"
    }
   ],
   "source": [
    "df['text'].str.contains(u'северн\\s*поток', regex=True, na=False).sum()"
   ]
  },
  {
   "cell_type": "code",
   "execution_count": 29,
   "metadata": {},
   "outputs": [
    {
     "data": {
      "text/plain": [
       "34"
      ]
     },
     "execution_count": 29,
     "metadata": {},
     "output_type": "execute_result"
    }
   ],
   "source": [
    "df['text'].str.contains(u'турецк\\s*поток', regex=True, na=False).sum()"
   ]
  },
  {
   "cell_type": "markdown",
   "metadata": {},
   "source": [
    "Количество упоминаний 'владимир путин' и 'алексей миллер'"
   ]
  },
  {
   "cell_type": "code",
   "execution_count": 30,
   "metadata": {},
   "outputs": [
    {
     "data": {
      "text/plain": [
       "59"
      ]
     },
     "execution_count": 30,
     "metadata": {},
     "output_type": "execute_result"
    }
   ],
   "source": [
    "df['text'].str.contains(u'владимир\\s*путин', regex=True, na=False).sum()"
   ]
  },
  {
   "cell_type": "code",
   "execution_count": 31,
   "metadata": {},
   "outputs": [
    {
     "data": {
      "text/plain": [
       "102"
      ]
     },
     "execution_count": 31,
     "metadata": {},
     "output_type": "execute_result"
    }
   ],
   "source": [
    "df['text'].str.contains(u'алекс\\s*миллер|алексе\\s*миллер', regex=True, na=False).sum()"
   ]
  },
  {
   "cell_type": "markdown",
   "metadata": {},
   "source": [
    "О каких санкциях пишут в статьях?"
   ]
  },
  {
   "cell_type": "code",
   "execution_count": 32,
   "metadata": {},
   "outputs": [
    {
     "data": {
      "text/html": [
       "<div>\n",
       "<style scoped>\n",
       "    .dataframe tbody tr th:only-of-type {\n",
       "        vertical-align: middle;\n",
       "    }\n",
       "\n",
       "    .dataframe tbody tr th {\n",
       "        vertical-align: top;\n",
       "    }\n",
       "\n",
       "    .dataframe thead th {\n",
       "        text-align: right;\n",
       "    }\n",
       "</style>\n",
       "<table border=\"1\" class=\"dataframe\">\n",
       "  <thead>\n",
       "    <tr style=\"text-align: right;\">\n",
       "      <th></th>\n",
       "      <th>date</th>\n",
       "      <th>text</th>\n",
       "      <th>length</th>\n",
       "    </tr>\n",
       "  </thead>\n",
       "  <tbody>\n",
       "    <tr>\n",
       "      <th>2</th>\n",
       "      <td>01.11.2017</td>\n",
       "      <td>нов редакц американск санкц став угроз зарубеж...</td>\n",
       "      <td>593</td>\n",
       "    </tr>\n",
       "    <tr>\n",
       "      <th>7</th>\n",
       "      <td>05.10.2017</td>\n",
       "      <td>газпр нефт пробур перв скважин аяшск участк ше...</td>\n",
       "      <td>695</td>\n",
       "    </tr>\n",
       "    <tr>\n",
       "      <th>34</th>\n",
       "      <td>10.07.2017</td>\n",
       "      <td>газпр нефт стат основн партнер испанск repsol ...</td>\n",
       "      <td>683</td>\n",
       "    </tr>\n",
       "    <tr>\n",
       "      <th>49</th>\n",
       "      <td>07.06.2017</td>\n",
       "      <td>газпр перв развернут комментар решен стокгольм...</td>\n",
       "      <td>1107</td>\n",
       "    </tr>\n",
       "    <tr>\n",
       "      <th>76</th>\n",
       "      <td>29.03.2017</td>\n",
       "      <td>газпр нефт планир инвестирова 2017 млрд руб се...</td>\n",
       "      <td>808</td>\n",
       "    </tr>\n",
       "    <tr>\n",
       "      <th>84</th>\n",
       "      <td>07.03.2017</td>\n",
       "      <td>крупн российск банк сбербанк газпромбанк объяв...</td>\n",
       "      <td>567</td>\n",
       "    </tr>\n",
       "    <tr>\n",
       "      <th>90</th>\n",
       "      <td>16.02.2017</td>\n",
       "      <td>газпр заяв начал коммерческ переговор китайск ...</td>\n",
       "      <td>321</td>\n",
       "    </tr>\n",
       "    <tr>\n",
       "      <th>120</th>\n",
       "      <td>16.12.2016</td>\n",
       "      <td>предправлен газпром алекс миллер назва решен к...</td>\n",
       "      <td>192</td>\n",
       "    </tr>\n",
       "    <tr>\n",
       "      <th>148</th>\n",
       "      <td>07.10.2016</td>\n",
       "      <td>стал известн нов проект газпром сжижен газ бал...</td>\n",
       "      <td>447</td>\n",
       "    </tr>\n",
       "    <tr>\n",
       "      <th>206</th>\n",
       "      <td>20.05.2016</td>\n",
       "      <td>скор выйдет 100ну закупк трубн продукц росс за...</td>\n",
       "      <td>1147</td>\n",
       "    </tr>\n",
       "    <tr>\n",
       "      <th>252</th>\n",
       "      <td>03.02.2016</td>\n",
       "      <td>американск son pictures television управля рос...</td>\n",
       "      <td>573</td>\n",
       "    </tr>\n",
       "    <tr>\n",
       "      <th>269</th>\n",
       "      <td>24.12.2015</td>\n",
       "      <td>правительств приостанов обсужден вопрос доступ...</td>\n",
       "      <td>869</td>\n",
       "    </tr>\n",
       "    <tr>\n",
       "      <th>312</th>\n",
       "      <td>22.09.2015</td>\n",
       "      <td>газпр собира нов экспортн контракт обеспеч воз...</td>\n",
       "      <td>538</td>\n",
       "    </tr>\n",
       "    <tr>\n",
       "      <th>333</th>\n",
       "      <td>10.08.2015</td>\n",
       "      <td>российск компан интерфакс ссылк заявлен замест...</td>\n",
       "      <td>625</td>\n",
       "    </tr>\n",
       "    <tr>\n",
       "      <th>350</th>\n",
       "      <td>08.07.2015</td>\n",
       "      <td>российск компан оа газпр стал неплатежеспособн...</td>\n",
       "      <td>278</td>\n",
       "    </tr>\n",
       "    <tr>\n",
       "      <th>359</th>\n",
       "      <td>24.06.2015</td>\n",
       "      <td>банк могут получ капитал русгидр 20 сообщ журн...</td>\n",
       "      <td>471</td>\n",
       "    </tr>\n",
       "    <tr>\n",
       "      <th>364</th>\n",
       "      <td>17.06.2015</td>\n",
       "      <td>газпр 2015 планир нараст закупк газ независим ...</td>\n",
       "      <td>933</td>\n",
       "    </tr>\n",
       "    <tr>\n",
       "      <th>383</th>\n",
       "      <td>14.05.2015</td>\n",
       "      <td>газпр вперв отчет кварта текущ год указа сумма...</td>\n",
       "      <td>1331</td>\n",
       "    </tr>\n",
       "    <tr>\n",
       "      <th>385</th>\n",
       "      <td>12.05.2015</td>\n",
       "      <td>средств капита перв уровн агентств страхован в...</td>\n",
       "      <td>551</td>\n",
       "    </tr>\n",
       "    <tr>\n",
       "      <th>391</th>\n",
       "      <td>28.04.2015</td>\n",
       "      <td>надежд правительств привлеч внебюджетн источни...</td>\n",
       "      <td>755</td>\n",
       "    </tr>\n",
       "    <tr>\n",
       "      <th>394</th>\n",
       "      <td>17.04.2015</td>\n",
       "      <td>газпр несмотр санкц проблем привлечен финансир...</td>\n",
       "      <td>626</td>\n",
       "    </tr>\n",
       "    <tr>\n",
       "      <th>435</th>\n",
       "      <td>28.01.2015</td>\n",
       "      <td>газпр отказа план расширен газопровод северн п...</td>\n",
       "      <td>679</td>\n",
       "    </tr>\n",
       "    <tr>\n",
       "      <th>448</th>\n",
       "      <td>26.12.2014</td>\n",
       "      <td>настоя врем 25 сотрудник администрац оа газпр ...</td>\n",
       "      <td>906</td>\n",
       "    </tr>\n",
       "    <tr>\n",
       "      <th>470</th>\n",
       "      <td>17.11.2014</td>\n",
       "      <td>групп газпр стал включа договор подрядчик штра...</td>\n",
       "      <td>431</td>\n",
       "    </tr>\n",
       "    <tr>\n",
       "      <th>473</th>\n",
       "      <td>12.11.2014</td>\n",
       "      <td>нак нафтогаз украин вернул оа газпр част плате...</td>\n",
       "      <td>981</td>\n",
       "    </tr>\n",
       "    <tr>\n",
       "      <th>483</th>\n",
       "      <td>22.10.2014</td>\n",
       "      <td>slovensk plynarensk priemysel spp ведет перего...</td>\n",
       "      <td>844</td>\n",
       "    </tr>\n",
       "    <tr>\n",
       "      <th>484</th>\n",
       "      <td>21.10.2014</td>\n",
       "      <td>решен ввест продовольствен эмбарг август мотив...</td>\n",
       "      <td>889</td>\n",
       "    </tr>\n",
       "    <tr>\n",
       "      <th>489</th>\n",
       "      <td>10.10.2014</td>\n",
       "      <td>газпр ведет переговор кита поставк газ западн ...</td>\n",
       "      <td>629</td>\n",
       "    </tr>\n",
       "    <tr>\n",
       "      <th>493</th>\n",
       "      <td>06.10.2014</td>\n",
       "      <td>российск нефтяник продолжа теря партнер изз са...</td>\n",
       "      <td>579</td>\n",
       "    </tr>\n",
       "    <tr>\n",
       "      <th>521</th>\n",
       "      <td>13.08.2014</td>\n",
       "      <td>газпр планир 2014 доб 463 млрд кубометр газ ср...</td>\n",
       "      <td>560</td>\n",
       "    </tr>\n",
       "    <tr>\n",
       "      <th>522</th>\n",
       "      <td>12.08.2014</td>\n",
       "      <td>дивиденд газпр нефт перв полугод могут выраст ...</td>\n",
       "      <td>2007</td>\n",
       "    </tr>\n",
       "    <tr>\n",
       "      <th>523</th>\n",
       "      <td>11.08.2014</td>\n",
       "      <td>газпромбанк гпб подпа санкц сша ес полност пог...</td>\n",
       "      <td>114</td>\n",
       "    </tr>\n",
       "    <tr>\n",
       "      <th>524</th>\n",
       "      <td>08.08.2014</td>\n",
       "      <td>перв полугод чист прибыл мсфо славнефт котор п...</td>\n",
       "      <td>609</td>\n",
       "    </tr>\n",
       "    <tr>\n",
       "      <th>525</th>\n",
       "      <td>07.08.2014</td>\n",
       "      <td>государств нача демонстрирова поддерж госбанк ...</td>\n",
       "      <td>397</td>\n",
       "    </tr>\n",
       "    <tr>\n",
       "      <th>530</th>\n",
       "      <td>29.07.2014</td>\n",
       "      <td>оо газпр межрегионгаз ярославл огранич 29 июл ...</td>\n",
       "      <td>1316</td>\n",
       "    </tr>\n",
       "    <tr>\n",
       "      <th>535</th>\n",
       "      <td>18.07.2014</td>\n",
       "      <td>крупн российск компан попа очередн виток санкц...</td>\n",
       "      <td>397</td>\n",
       "    </tr>\n",
       "    <tr>\n",
       "      <th>545</th>\n",
       "      <td>01.07.2014</td>\n",
       "      <td>газпр обжалова вильнюсск окружн административн...</td>\n",
       "      <td>1148</td>\n",
       "    </tr>\n",
       "    <tr>\n",
       "      <th>569</th>\n",
       "      <td>22.05.2014</td>\n",
       "      <td>газпр нефт исключа удорожан кредит изз введен ...</td>\n",
       "      <td>1375</td>\n",
       "    </tr>\n",
       "    <tr>\n",
       "      <th>603</th>\n",
       "      <td>17.03.2014</td>\n",
       "      <td>нак нафтогаз украин период 15 март импортирова...</td>\n",
       "      <td>968</td>\n",
       "    </tr>\n",
       "    <tr>\n",
       "      <th>619</th>\n",
       "      <td>17.02.2014</td>\n",
       "      <td>председател совет директор транснефт uc rusa ч...</td>\n",
       "      <td>907</td>\n",
       "    </tr>\n",
       "    <tr>\n",
       "      <th>624</th>\n",
       "      <td>08.02.2014</td>\n",
       "      <td>газпр предостав еврокомисс удовлетворя ответ ч...</td>\n",
       "      <td>500</td>\n",
       "    </tr>\n",
       "    <tr>\n",
       "      <th>957</th>\n",
       "      <td>22.02.2012</td>\n",
       "      <td>спуст месяц посл старт газопровод северн поток...</td>\n",
       "      <td>1700</td>\n",
       "    </tr>\n",
       "    <tr>\n",
       "      <th>1015</th>\n",
       "      <td>14.10.2011</td>\n",
       "      <td>росс котор хочет теря возможн присутств иран н...</td>\n",
       "      <td>365</td>\n",
       "    </tr>\n",
       "    <tr>\n",
       "      <th>1097</th>\n",
       "      <td>13.04.2011</td>\n",
       "      <td>украин рассчитыва тольк снижен цен российск га...</td>\n",
       "      <td>280</td>\n",
       "    </tr>\n",
       "    <tr>\n",
       "      <th>1149</th>\n",
       "      <td>29.09.2010</td>\n",
       "      <td>газпр вид основан снижен цен газ украин ведет ...</td>\n",
       "      <td>340</td>\n",
       "    </tr>\n",
       "  </tbody>\n",
       "</table>\n",
       "</div>"
      ],
      "text/plain": [
       "            date                                               text  length\n",
       "2     01.11.2017  нов редакц американск санкц став угроз зарубеж...     593\n",
       "7     05.10.2017  газпр нефт пробур перв скважин аяшск участк ше...     695\n",
       "34    10.07.2017  газпр нефт стат основн партнер испанск repsol ...     683\n",
       "49    07.06.2017  газпр перв развернут комментар решен стокгольм...    1107\n",
       "76    29.03.2017  газпр нефт планир инвестирова 2017 млрд руб се...     808\n",
       "84    07.03.2017  крупн российск банк сбербанк газпромбанк объяв...     567\n",
       "90    16.02.2017  газпр заяв начал коммерческ переговор китайск ...     321\n",
       "120   16.12.2016  предправлен газпром алекс миллер назва решен к...     192\n",
       "148   07.10.2016  стал известн нов проект газпром сжижен газ бал...     447\n",
       "206   20.05.2016  скор выйдет 100ну закупк трубн продукц росс за...    1147\n",
       "252   03.02.2016  американск son pictures television управля рос...     573\n",
       "269   24.12.2015  правительств приостанов обсужден вопрос доступ...     869\n",
       "312   22.09.2015  газпр собира нов экспортн контракт обеспеч воз...     538\n",
       "333   10.08.2015  российск компан интерфакс ссылк заявлен замест...     625\n",
       "350   08.07.2015  российск компан оа газпр стал неплатежеспособн...     278\n",
       "359   24.06.2015  банк могут получ капитал русгидр 20 сообщ журн...     471\n",
       "364   17.06.2015  газпр 2015 планир нараст закупк газ независим ...     933\n",
       "383   14.05.2015  газпр вперв отчет кварта текущ год указа сумма...    1331\n",
       "385   12.05.2015  средств капита перв уровн агентств страхован в...     551\n",
       "391   28.04.2015  надежд правительств привлеч внебюджетн источни...     755\n",
       "394   17.04.2015  газпр несмотр санкц проблем привлечен финансир...     626\n",
       "435   28.01.2015  газпр отказа план расширен газопровод северн п...     679\n",
       "448   26.12.2014  настоя врем 25 сотрудник администрац оа газпр ...     906\n",
       "470   17.11.2014  групп газпр стал включа договор подрядчик штра...     431\n",
       "473   12.11.2014  нак нафтогаз украин вернул оа газпр част плате...     981\n",
       "483   22.10.2014  slovensk plynarensk priemysel spp ведет перего...     844\n",
       "484   21.10.2014  решен ввест продовольствен эмбарг август мотив...     889\n",
       "489   10.10.2014  газпр ведет переговор кита поставк газ западн ...     629\n",
       "493   06.10.2014  российск нефтяник продолжа теря партнер изз са...     579\n",
       "521   13.08.2014  газпр планир 2014 доб 463 млрд кубометр газ ср...     560\n",
       "522   12.08.2014  дивиденд газпр нефт перв полугод могут выраст ...    2007\n",
       "523   11.08.2014  газпромбанк гпб подпа санкц сша ес полност пог...     114\n",
       "524   08.08.2014  перв полугод чист прибыл мсфо славнефт котор п...     609\n",
       "525   07.08.2014  государств нача демонстрирова поддерж госбанк ...     397\n",
       "530   29.07.2014  оо газпр межрегионгаз ярославл огранич 29 июл ...    1316\n",
       "535   18.07.2014  крупн российск компан попа очередн виток санкц...     397\n",
       "545   01.07.2014  газпр обжалова вильнюсск окружн административн...    1148\n",
       "569   22.05.2014  газпр нефт исключа удорожан кредит изз введен ...    1375\n",
       "603   17.03.2014  нак нафтогаз украин период 15 март импортирова...     968\n",
       "619   17.02.2014  председател совет директор транснефт uc rusa ч...     907\n",
       "624   08.02.2014  газпр предостав еврокомисс удовлетворя ответ ч...     500\n",
       "957   22.02.2012  спуст месяц посл старт газопровод северн поток...    1700\n",
       "1015  14.10.2011  росс котор хочет теря возможн присутств иран н...     365\n",
       "1097  13.04.2011  украин рассчитыва тольк снижен цен российск га...     280\n",
       "1149  29.09.2010  газпр вид основан снижен цен газ украин ведет ...     340"
      ]
     },
     "execution_count": 32,
     "metadata": {},
     "output_type": "execute_result"
    }
   ],
   "source": [
    "df[df['text'].str.contains(u'санкц', regex=True, na=False)]"
   ]
  },
  {
   "cell_type": "code",
   "execution_count": null,
   "metadata": {},
   "outputs": [],
   "source": []
  },
  {
   "cell_type": "markdown",
   "metadata": {},
   "source": [
    "## Часть 2. Классификационная [3 балла]\n",
    "Вам предстоит решить следующую задачу: по текстам новостей за день определить, вырастет или понизится цена закрытия.\n",
    "Для этого:\n",
    "* бинаризуйте признак \"цена закрытия\":  новый признак ClosingPrice_bin равен 1, если по сравнению со вчера цена не упала, и 0 – в обратном случаея;\n",
    "* составьте бучающее и тестовое множество: данные до начала 2016 года используются для обучения, данные с 2016 года и позже – для тестирования.\n",
    "\n",
    "Таким образом, в каждлый момент времени мы знаем: \n",
    "* ClosingPrice_bin – бинарый целевой признак\n",
    "* слова из статей, опубликованных в этот день – объясняющие признаки\n",
    "\n",
    "В этой части задания вам нужно сделать baseline алгоритм и попытаться его улучшить в следующей части. \n",
    "\n",
    "Используйте любой известный вам алгоритм классификации текстов для того, Используйте $tf-idf$ преобразование, сингулярное разложение, нормировку признакого пространства и любые другие техники обработки данных, которые вы считаете нужным. Используйте accuracy и F-measure для оценки качества классификации. Покажите, как  $tf-idf$ преобразование или сингулярное разложение или любая другая использованная вами техника влияет на качество классификации.\n",
    "Если у выбранного вами алгоритма есть гиперпараметры (например, $\\alpha$ в преобразовании Лапласа для метода наивного Байеса), покажите, как изменение гиперпараметра влияет на качество классификации."
   ]
  },
  {
   "cell_type": "code",
   "execution_count": 4,
   "metadata": {},
   "outputs": [
    {
     "data": {
      "text/html": [
       "<div>\n",
       "<style scoped>\n",
       "    .dataframe tbody tr th:only-of-type {\n",
       "        vertical-align: middle;\n",
       "    }\n",
       "\n",
       "    .dataframe tbody tr th {\n",
       "        vertical-align: top;\n",
       "    }\n",
       "\n",
       "    .dataframe thead th {\n",
       "        text-align: right;\n",
       "    }\n",
       "</style>\n",
       "<table border=\"1\" class=\"dataframe\">\n",
       "  <thead>\n",
       "    <tr style=\"text-align: right;\">\n",
       "      <th></th>\n",
       "      <th>text</th>\n",
       "    </tr>\n",
       "    <tr>\n",
       "      <th>date</th>\n",
       "      <th></th>\n",
       "    </tr>\n",
       "  </thead>\n",
       "  <tbody>\n",
       "    <tr>\n",
       "      <th>2017-09-11</th>\n",
       "      <td>Компания рассчитывает на решение по газовому с...</td>\n",
       "    </tr>\n",
       "    <tr>\n",
       "      <th>2017-08-11</th>\n",
       "      <td>Как и предполагал “Ъ”, «Газпром», воспользова...</td>\n",
       "    </tr>\n",
       "    <tr>\n",
       "      <th>2017-01-11</th>\n",
       "      <td>Новая редакция американских санкций ставит по...</td>\n",
       "    </tr>\n",
       "  </tbody>\n",
       "</table>\n",
       "</div>"
      ],
      "text/plain": [
       "                                                         text\n",
       "date                                                         \n",
       "2017-09-11  Компания рассчитывает на решение по газовому с...\n",
       "2017-08-11   Как и предполагал “Ъ”, «Газпром», воспользова...\n",
       "2017-01-11   Новая редакция американских санкций ставит по..."
      ]
     },
     "execution_count": 4,
     "metadata": {},
     "output_type": "execute_result"
    }
   ],
   "source": [
    "df_texts = pd.read_csv('texts.csv', parse_dates=True, index_col='date')\n",
    "df_texts.head(3)"
   ]
  },
  {
   "cell_type": "code",
   "execution_count": 5,
   "metadata": {},
   "outputs": [
    {
     "data": {
      "text/html": [
       "<div>\n",
       "<style scoped>\n",
       "    .dataframe tbody tr th:only-of-type {\n",
       "        vertical-align: middle;\n",
       "    }\n",
       "\n",
       "    .dataframe tbody tr th {\n",
       "        vertical-align: top;\n",
       "    }\n",
       "\n",
       "    .dataframe thead th {\n",
       "        text-align: right;\n",
       "    }\n",
       "</style>\n",
       "<table border=\"1\" class=\"dataframe\">\n",
       "  <thead>\n",
       "    <tr style=\"text-align: right;\">\n",
       "      <th></th>\n",
       "      <th>Open</th>\n",
       "      <th>ClosingPrice</th>\n",
       "      <th>DailyHigh</th>\n",
       "      <th>DailyLow</th>\n",
       "      <th>VolumePcs</th>\n",
       "    </tr>\n",
       "    <tr>\n",
       "      <th>Date</th>\n",
       "      <th></th>\n",
       "      <th></th>\n",
       "      <th></th>\n",
       "      <th></th>\n",
       "      <th></th>\n",
       "    </tr>\n",
       "  </thead>\n",
       "  <tbody>\n",
       "    <tr>\n",
       "      <th>2017-08-12</th>\n",
       "      <td>133,43000</td>\n",
       "      <td>132,60000</td>\n",
       "      <td>133,90000</td>\n",
       "      <td>132,00000</td>\n",
       "      <td>16037970</td>\n",
       "    </tr>\n",
       "    <tr>\n",
       "      <th>2017-07-12</th>\n",
       "      <td>133,70000</td>\n",
       "      <td>133,02000</td>\n",
       "      <td>133,87000</td>\n",
       "      <td>132,81000</td>\n",
       "      <td>18198430</td>\n",
       "    </tr>\n",
       "    <tr>\n",
       "      <th>2017-06-12</th>\n",
       "      <td>133,33000</td>\n",
       "      <td>134,00000</td>\n",
       "      <td>134,29000</td>\n",
       "      <td>132,91000</td>\n",
       "      <td>14641730</td>\n",
       "    </tr>\n",
       "  </tbody>\n",
       "</table>\n",
       "</div>"
      ],
      "text/plain": [
       "                 Open ClosingPrice  DailyHigh   DailyLow  VolumePcs\n",
       "Date                                                               \n",
       "2017-08-12  133,43000    132,60000  133,90000  132,00000   16037970\n",
       "2017-07-12  133,70000    133,02000  133,87000  132,81000   18198430\n",
       "2017-06-12  133,33000    134,00000  134,29000  132,91000   14641730"
      ]
     },
     "execution_count": 5,
     "metadata": {},
     "output_type": "execute_result"
    }
   ],
   "source": [
    "df_prices = pd.read_csv('gazprom_prices.csv', parse_dates=True, sep=';', index_col='Date')\n",
    "df_prices.head(3)"
   ]
  },
  {
   "cell_type": "code",
   "execution_count": 6,
   "metadata": {},
   "outputs": [
    {
     "data": {
      "text/html": [
       "<div>\n",
       "<style scoped>\n",
       "    .dataframe tbody tr th:only-of-type {\n",
       "        vertical-align: middle;\n",
       "    }\n",
       "\n",
       "    .dataframe tbody tr th {\n",
       "        vertical-align: top;\n",
       "    }\n",
       "\n",
       "    .dataframe thead th {\n",
       "        text-align: right;\n",
       "    }\n",
       "</style>\n",
       "<table border=\"1\" class=\"dataframe\">\n",
       "  <thead>\n",
       "    <tr style=\"text-align: right;\">\n",
       "      <th></th>\n",
       "      <th>text</th>\n",
       "      <th>ClosingPrice</th>\n",
       "    </tr>\n",
       "    <tr>\n",
       "      <th>date</th>\n",
       "      <th></th>\n",
       "      <th></th>\n",
       "    </tr>\n",
       "  </thead>\n",
       "  <tbody>\n",
       "    <tr>\n",
       "      <th>2017-09-11</th>\n",
       "      <td>Компания рассчитывает на решение по газовому с...</td>\n",
       "      <td>131,50000</td>\n",
       "    </tr>\n",
       "    <tr>\n",
       "      <th>2017-08-11</th>\n",
       "      <td>Как и предполагал “Ъ”, «Газпром», воспользова...</td>\n",
       "      <td>132,30000</td>\n",
       "    </tr>\n",
       "    <tr>\n",
       "      <th>2017-01-11</th>\n",
       "      <td>Новая редакция американских санкций ставит по...</td>\n",
       "      <td>126,50000</td>\n",
       "    </tr>\n",
       "  </tbody>\n",
       "</table>\n",
       "</div>"
      ],
      "text/plain": [
       "                                                         text ClosingPrice\n",
       "date                                                                      \n",
       "2017-09-11  Компания рассчитывает на решение по газовому с...    131,50000\n",
       "2017-08-11   Как и предполагал “Ъ”, «Газпром», воспользова...    132,30000\n",
       "2017-01-11   Новая редакция американских санкций ставит по...    126,50000"
      ]
     },
     "execution_count": 6,
     "metadata": {},
     "output_type": "execute_result"
    }
   ],
   "source": [
    "df = df_texts.join(df_prices)[['text', 'ClosingPrice']]\n",
    "df.head(3)"
   ]
  },
  {
   "cell_type": "code",
   "execution_count": 7,
   "metadata": {},
   "outputs": [],
   "source": [
    "df.columns = ['text', 'price']"
   ]
  },
  {
   "cell_type": "code",
   "execution_count": 8,
   "metadata": {},
   "outputs": [
    {
     "name": "stdout",
     "output_type": "stream",
     "text": [
      "<class 'pandas.core.frame.DataFrame'>\n",
      "DatetimeIndex: 1203 entries, 2017-09-11 to 2010-04-01\n",
      "Data columns (total 2 columns):\n",
      "text     1203 non-null object\n",
      "price    1159 non-null object\n",
      "dtypes: object(2)\n",
      "memory usage: 68.2+ KB\n"
     ]
    }
   ],
   "source": [
    "df.info()"
   ]
  },
  {
   "cell_type": "code",
   "execution_count": 9,
   "metadata": {},
   "outputs": [],
   "source": [
    "df = df.dropna()"
   ]
  },
  {
   "cell_type": "code",
   "execution_count": 10,
   "metadata": {},
   "outputs": [],
   "source": [
    "df.price = df.price.apply(lambda x: x.replace(',', '.')).astype(np.float)"
   ]
  },
  {
   "cell_type": "code",
   "execution_count": 11,
   "metadata": {},
   "outputs": [],
   "source": [
    "df['price_change'] = df.price - df.price.shift(1)"
   ]
  },
  {
   "cell_type": "code",
   "execution_count": 12,
   "metadata": {},
   "outputs": [],
   "source": [
    "df['class_label'] = (df.price_change >= 0) + 0"
   ]
  },
  {
   "cell_type": "code",
   "execution_count": 13,
   "metadata": {},
   "outputs": [
    {
     "ename": "NameError",
     "evalue": "name 'text_process' is not defined",
     "output_type": "error",
     "traceback": [
      "\u001b[0;31m---------------------------------------------------------------------------\u001b[0m",
      "\u001b[0;31mNameError\u001b[0m                                 Traceback (most recent call last)",
      "\u001b[0;32m<ipython-input-13-d14fa86c08aa>\u001b[0m in \u001b[0;36m<module>\u001b[0;34m()\u001b[0m\n\u001b[0;32m----> 1\u001b[0;31m \u001b[0mdf\u001b[0m\u001b[0;34m.\u001b[0m\u001b[0mtext\u001b[0m \u001b[0;34m=\u001b[0m \u001b[0mdf\u001b[0m\u001b[0;34m.\u001b[0m\u001b[0mtext\u001b[0m\u001b[0;34m.\u001b[0m\u001b[0mapply\u001b[0m\u001b[0;34m(\u001b[0m\u001b[0mtext_process\u001b[0m\u001b[0;34m)\u001b[0m\u001b[0;34m\u001b[0m\u001b[0m\n\u001b[0m",
      "\u001b[0;31mNameError\u001b[0m: name 'text_process' is not defined"
     ]
    }
   ],
   "source": [
    "df.text = df.text.apply(text_process)"
   ]
  },
  {
   "cell_type": "code",
   "execution_count": 14,
   "metadata": {},
   "outputs": [],
   "source": [
    "threshold_date = pd.Timestamp('2015-12-31 23:59:59')"
   ]
  },
  {
   "cell_type": "code",
   "execution_count": 15,
   "metadata": {},
   "outputs": [],
   "source": [
    "test_dates = df.index[np.where(df.index >= threshold_date)]\n",
    "train_dates = df.index[np.where(df.index < threshold_date)]"
   ]
  },
  {
   "cell_type": "code",
   "execution_count": 16,
   "metadata": {},
   "outputs": [],
   "source": [
    "df_train = df.loc[train_dates]\n",
    "df_test = df.loc[test_dates]"
   ]
  },
  {
   "cell_type": "code",
   "execution_count": 17,
   "metadata": {},
   "outputs": [],
   "source": [
    "x_train, y_train = df_train.text.values, df_train.class_label.values\n",
    "x_test, y_test   = df_test.text.values,  df_test.class_label.values"
   ]
  },
  {
   "cell_type": "code",
   "execution_count": 18,
   "metadata": {},
   "outputs": [],
   "source": [
    "from sklearn.feature_extraction.text import TfidfVectorizer"
   ]
  },
  {
   "cell_type": "code",
   "execution_count": 19,
   "metadata": {},
   "outputs": [],
   "source": [
    "tf = TfidfVectorizer()"
   ]
  },
  {
   "cell_type": "code",
   "execution_count": 20,
   "metadata": {},
   "outputs": [
    {
     "data": {
      "text/plain": [
       "TfidfVectorizer(analyzer='word', binary=False, decode_error='strict',\n",
       "        dtype=<class 'numpy.int64'>, encoding='utf-8', input='content',\n",
       "        lowercase=True, max_df=1.0, max_features=None, min_df=1,\n",
       "        ngram_range=(1, 1), norm='l2', preprocessor=None, smooth_idf=True,\n",
       "        stop_words=None, strip_accents=None, sublinear_tf=False,\n",
       "        token_pattern='(?u)\\\\b\\\\w\\\\w+\\\\b', tokenizer=None, use_idf=True,\n",
       "        vocabulary=None)"
      ]
     },
     "execution_count": 20,
     "metadata": {},
     "output_type": "execute_result"
    }
   ],
   "source": [
    "tf.fit(df.text)"
   ]
  },
  {
   "cell_type": "code",
   "execution_count": 21,
   "metadata": {},
   "outputs": [],
   "source": [
    "x_train = tf.transform(x_train)\n",
    "x_test = tf.transform(x_test)"
   ]
  },
  {
   "cell_type": "code",
   "execution_count": 22,
   "metadata": {},
   "outputs": [],
   "source": [
    "from sklearn.neighbors import KNeighborsClassifier\n",
    "from sklearn.metrics import accuracy_score, f1_score"
   ]
  },
  {
   "cell_type": "code",
   "execution_count": 23,
   "metadata": {},
   "outputs": [],
   "source": [
    "knn = KNeighborsClassifier()"
   ]
  },
  {
   "cell_type": "code",
   "execution_count": 24,
   "metadata": {},
   "outputs": [],
   "source": [
    "from time import time"
   ]
  },
  {
   "cell_type": "code",
   "execution_count": 25,
   "metadata": {},
   "outputs": [
    {
     "data": {
      "text/plain": [
       "1521744521.899203"
      ]
     },
     "execution_count": 25,
     "metadata": {},
     "output_type": "execute_result"
    }
   ],
   "source": [
    "time()"
   ]
  },
  {
   "cell_type": "code",
   "execution_count": 26,
   "metadata": {},
   "outputs": [],
   "source": [
    "def bench(clf, x_tr, y_tr, x_te, y_te):\n",
    "    start = time()\n",
    "    clf.fit(x_tr, y_tr)\n",
    "    mid = time()\n",
    "    y_tr_pred = clf.predict(x_tr)\n",
    "    y_te_pred = clf.predict(x_te)\n",
    "    end = time()\n",
    "    return accuracy_score(y_tr, y_tr_pred), f1_score(y_tr, y_tr_pred),\\\n",
    "            accuracy_score(y_te, y_te_pred), f1_score(y_te, y_te_pred),\\\n",
    "            mid - start, (end - mid) / 2.0"
   ]
  },
  {
   "cell_type": "code",
   "execution_count": 27,
   "metadata": {},
   "outputs": [],
   "source": [
    "from sklearn.linear_model import PassiveAggressiveClassifier, RidgeClassifier, SGDClassifier, Perceptron\n",
    "from sklearn.svm import LinearSVC\n",
    "from sklearn.naive_bayes import BernoulliNB, MultinomialNB\n",
    "from sklearn.neighbors import KNeighborsClassifier, NearestCentroid\n",
    "from sklearn.ensemble import RandomForestClassifier"
   ]
  },
  {
   "cell_type": "code",
   "execution_count": 28,
   "metadata": {},
   "outputs": [],
   "source": [
    "clf_lst = [PassiveAggressiveClassifier, RidgeClassifier, SGDClassifier,\\\n",
    "           Perceptron, LinearSVC, BernoulliNB, MultinomialNB,\n",
    "          KNeighborsClassifier, NearestCentroid, RandomForestClassifier]"
   ]
  },
  {
   "cell_type": "code",
   "execution_count": 55,
   "metadata": {},
   "outputs": [],
   "source": [
    "from sklearn.decomposition import TruncatedSVD\n",
    "from sklearn.feature_selection import SelectKBest, SelectPercentile\n",
    "\n",
    "import warnings\n",
    "warnings.filterwarnings('ignore')"
   ]
  },
  {
   "cell_type": "code",
   "execution_count": 51,
   "metadata": {},
   "outputs": [],
   "source": [
    "def get_measurements_df(x_tr, y_tr, x_te, y_te, result_type=2):\n",
    "    reses = []\n",
    "    for clf in clf_lst:\n",
    "        clf_name = str(clf).split('.')[-1]\n",
    "        clf_name = clf_name.split(\"'\")[0]\n",
    "        try:\n",
    "            res = [clf_name] + list(bench(clf(), x_tr, y_tr, x_te, y_te))\n",
    "            reses.append(res)\n",
    "        except:\n",
    "            pass\n",
    "    pre_res = pd.DataFrame(reses, columns=['name', 'train_acc', 'train_f1', 'test_acc', \n",
    "                                              'test_f1', 'train_time', 'test_time'])\n",
    "    pre_res = pre_res.sort_values(by='test_f1')\n",
    "    \n",
    "    if result_type == 0:\n",
    "        return pre_res[['name', 'test_acc', 'test_f1']]\n",
    "    \n",
    "    if result_type == 1:\n",
    "        return pre_res[['name', 'train_acc', 'train_f1', 'test_acc', 'test_f1']]\n",
    "    \n",
    "    if result_type != 2:\n",
    "        raise ValueError(\"Unknown result_type\")\n",
    "    \n",
    "    return pre_res"
   ]
  },
  {
   "cell_type": "code",
   "execution_count": 52,
   "metadata": {},
   "outputs": [],
   "source": [
    "# PCA does not support sparse input.\n",
    "svd = TruncatedSVD()"
   ]
  },
  {
   "cell_type": "code",
   "execution_count": 53,
   "metadata": {},
   "outputs": [],
   "source": [
    "x_train_svd = svd.fit_transform(x_train)\n",
    "x_test_svd = svd.fit_transform(x_test)"
   ]
  },
  {
   "cell_type": "code",
   "execution_count": 57,
   "metadata": {},
   "outputs": [
    {
     "data": {
      "text/html": [
       "<div>\n",
       "<style scoped>\n",
       "    .dataframe tbody tr th:only-of-type {\n",
       "        vertical-align: middle;\n",
       "    }\n",
       "\n",
       "    .dataframe tbody tr th {\n",
       "        vertical-align: top;\n",
       "    }\n",
       "\n",
       "    .dataframe thead th {\n",
       "        text-align: right;\n",
       "    }\n",
       "</style>\n",
       "<table border=\"1\" class=\"dataframe\">\n",
       "  <thead>\n",
       "    <tr style=\"text-align: right;\">\n",
       "      <th></th>\n",
       "      <th>name</th>\n",
       "      <th>test_acc</th>\n",
       "      <th>test_f1</th>\n",
       "    </tr>\n",
       "  </thead>\n",
       "  <tbody>\n",
       "    <tr>\n",
       "      <th>0</th>\n",
       "      <td>PassiveAggressiveClassifier</td>\n",
       "      <td>0.441860</td>\n",
       "      <td>0.000000</td>\n",
       "    </tr>\n",
       "    <tr>\n",
       "      <th>2</th>\n",
       "      <td>SGDClassifier</td>\n",
       "      <td>0.472868</td>\n",
       "      <td>0.433333</td>\n",
       "    </tr>\n",
       "    <tr>\n",
       "      <th>8</th>\n",
       "      <td>RandomForestClassifier</td>\n",
       "      <td>0.468992</td>\n",
       "      <td>0.475096</td>\n",
       "    </tr>\n",
       "    <tr>\n",
       "      <th>7</th>\n",
       "      <td>NearestCentroid</td>\n",
       "      <td>0.453488</td>\n",
       "      <td>0.479705</td>\n",
       "    </tr>\n",
       "    <tr>\n",
       "      <th>6</th>\n",
       "      <td>KNeighborsClassifier</td>\n",
       "      <td>0.507752</td>\n",
       "      <td>0.554386</td>\n",
       "    </tr>\n",
       "    <tr>\n",
       "      <th>4</th>\n",
       "      <td>LinearSVC</td>\n",
       "      <td>0.550388</td>\n",
       "      <td>0.702564</td>\n",
       "    </tr>\n",
       "    <tr>\n",
       "      <th>1</th>\n",
       "      <td>RidgeClassifier</td>\n",
       "      <td>0.554264</td>\n",
       "      <td>0.708861</td>\n",
       "    </tr>\n",
       "    <tr>\n",
       "      <th>3</th>\n",
       "      <td>Perceptron</td>\n",
       "      <td>0.558140</td>\n",
       "      <td>0.716418</td>\n",
       "    </tr>\n",
       "    <tr>\n",
       "      <th>5</th>\n",
       "      <td>BernoulliNB</td>\n",
       "      <td>0.558140</td>\n",
       "      <td>0.716418</td>\n",
       "    </tr>\n",
       "  </tbody>\n",
       "</table>\n",
       "</div>"
      ],
      "text/plain": [
       "                          name  test_acc   test_f1\n",
       "0  PassiveAggressiveClassifier  0.441860  0.000000\n",
       "2                SGDClassifier  0.472868  0.433333\n",
       "8       RandomForestClassifier  0.468992  0.475096\n",
       "7              NearestCentroid  0.453488  0.479705\n",
       "6         KNeighborsClassifier  0.507752  0.554386\n",
       "4                    LinearSVC  0.550388  0.702564\n",
       "1              RidgeClassifier  0.554264  0.708861\n",
       "3                   Perceptron  0.558140  0.716418\n",
       "5                  BernoulliNB  0.558140  0.716418"
      ]
     },
     "execution_count": 57,
     "metadata": {},
     "output_type": "execute_result"
    }
   ],
   "source": [
    "get_measurements_df(x_train_svd, y_train, x_test_svd, y_test, result_type=0)"
   ]
  },
  {
   "cell_type": "code",
   "execution_count": 60,
   "metadata": {},
   "outputs": [],
   "source": [
    "best_perc = SelectPercentile()"
   ]
  },
  {
   "cell_type": "code",
   "execution_count": 67,
   "metadata": {},
   "outputs": [],
   "source": [
    "x_train_perc = best_perc.fit_transform(x_train, y_train)\n",
    "x_test_perc = best_perc.transform(x_test)"
   ]
  },
  {
   "cell_type": "code",
   "execution_count": 70,
   "metadata": {
    "scrolled": true
   },
   "outputs": [
    {
     "data": {
      "text/html": [
       "<div>\n",
       "<style scoped>\n",
       "    .dataframe tbody tr th:only-of-type {\n",
       "        vertical-align: middle;\n",
       "    }\n",
       "\n",
       "    .dataframe tbody tr th {\n",
       "        vertical-align: top;\n",
       "    }\n",
       "\n",
       "    .dataframe thead th {\n",
       "        text-align: right;\n",
       "    }\n",
       "</style>\n",
       "<table border=\"1\" class=\"dataframe\">\n",
       "  <thead>\n",
       "    <tr style=\"text-align: right;\">\n",
       "      <th></th>\n",
       "      <th>name</th>\n",
       "      <th>test_acc</th>\n",
       "      <th>test_f1</th>\n",
       "    </tr>\n",
       "  </thead>\n",
       "  <tbody>\n",
       "    <tr>\n",
       "      <th>7</th>\n",
       "      <td>KNeighborsClassifier</td>\n",
       "      <td>0.430233</td>\n",
       "      <td>0.013423</td>\n",
       "    </tr>\n",
       "    <tr>\n",
       "      <th>3</th>\n",
       "      <td>Perceptron</td>\n",
       "      <td>0.441860</td>\n",
       "      <td>0.496503</td>\n",
       "    </tr>\n",
       "    <tr>\n",
       "      <th>2</th>\n",
       "      <td>SGDClassifier</td>\n",
       "      <td>0.484496</td>\n",
       "      <td>0.536585</td>\n",
       "    </tr>\n",
       "    <tr>\n",
       "      <th>9</th>\n",
       "      <td>RandomForestClassifier</td>\n",
       "      <td>0.500000</td>\n",
       "      <td>0.537634</td>\n",
       "    </tr>\n",
       "    <tr>\n",
       "      <th>8</th>\n",
       "      <td>NearestCentroid</td>\n",
       "      <td>0.492248</td>\n",
       "      <td>0.561873</td>\n",
       "    </tr>\n",
       "    <tr>\n",
       "      <th>4</th>\n",
       "      <td>LinearSVC</td>\n",
       "      <td>0.484496</td>\n",
       "      <td>0.566775</td>\n",
       "    </tr>\n",
       "    <tr>\n",
       "      <th>5</th>\n",
       "      <td>BernoulliNB</td>\n",
       "      <td>0.453488</td>\n",
       "      <td>0.568807</td>\n",
       "    </tr>\n",
       "    <tr>\n",
       "      <th>1</th>\n",
       "      <td>RidgeClassifier</td>\n",
       "      <td>0.472868</td>\n",
       "      <td>0.569620</td>\n",
       "    </tr>\n",
       "    <tr>\n",
       "      <th>0</th>\n",
       "      <td>PassiveAggressiveClassifier</td>\n",
       "      <td>0.484496</td>\n",
       "      <td>0.575080</td>\n",
       "    </tr>\n",
       "    <tr>\n",
       "      <th>6</th>\n",
       "      <td>MultinomialNB</td>\n",
       "      <td>0.511628</td>\n",
       "      <td>0.646067</td>\n",
       "    </tr>\n",
       "  </tbody>\n",
       "</table>\n",
       "</div>"
      ],
      "text/plain": [
       "                          name  test_acc   test_f1\n",
       "7         KNeighborsClassifier  0.430233  0.013423\n",
       "3                   Perceptron  0.441860  0.496503\n",
       "2                SGDClassifier  0.484496  0.536585\n",
       "9       RandomForestClassifier  0.500000  0.537634\n",
       "8              NearestCentroid  0.492248  0.561873\n",
       "4                    LinearSVC  0.484496  0.566775\n",
       "5                  BernoulliNB  0.453488  0.568807\n",
       "1              RidgeClassifier  0.472868  0.569620\n",
       "0  PassiveAggressiveClassifier  0.484496  0.575080\n",
       "6                MultinomialNB  0.511628  0.646067"
      ]
     },
     "execution_count": 70,
     "metadata": {},
     "output_type": "execute_result"
    }
   ],
   "source": [
    "get_measurements_df(x_train_perc, y_train, x_test_perc, y_test, result_type=0)"
   ]
  },
  {
   "cell_type": "code",
   "execution_count": 71,
   "metadata": {},
   "outputs": [],
   "source": [
    "best_k_best = SelectKBest()\n",
    "x_train_best = best_k_best.fit_transform(x_train, y_train)\n",
    "x_test_best = best_k_best.transform(x_test)"
   ]
  },
  {
   "cell_type": "code",
   "execution_count": 73,
   "metadata": {},
   "outputs": [
    {
     "data": {
      "text/html": [
       "<div>\n",
       "<style scoped>\n",
       "    .dataframe tbody tr th:only-of-type {\n",
       "        vertical-align: middle;\n",
       "    }\n",
       "\n",
       "    .dataframe tbody tr th {\n",
       "        vertical-align: top;\n",
       "    }\n",
       "\n",
       "    .dataframe thead th {\n",
       "        text-align: right;\n",
       "    }\n",
       "</style>\n",
       "<table border=\"1\" class=\"dataframe\">\n",
       "  <thead>\n",
       "    <tr style=\"text-align: right;\">\n",
       "      <th></th>\n",
       "      <th>name</th>\n",
       "      <th>test_acc</th>\n",
       "      <th>test_f1</th>\n",
       "    </tr>\n",
       "  </thead>\n",
       "  <tbody>\n",
       "    <tr>\n",
       "      <th>3</th>\n",
       "      <td>Perceptron</td>\n",
       "      <td>0.457364</td>\n",
       "      <td>0.156627</td>\n",
       "    </tr>\n",
       "    <tr>\n",
       "      <th>8</th>\n",
       "      <td>NearestCentroid</td>\n",
       "      <td>0.465116</td>\n",
       "      <td>0.197674</td>\n",
       "    </tr>\n",
       "    <tr>\n",
       "      <th>5</th>\n",
       "      <td>BernoulliNB</td>\n",
       "      <td>0.468992</td>\n",
       "      <td>0.217143</td>\n",
       "    </tr>\n",
       "    <tr>\n",
       "      <th>9</th>\n",
       "      <td>RandomForestClassifier</td>\n",
       "      <td>0.468992</td>\n",
       "      <td>0.225989</td>\n",
       "    </tr>\n",
       "    <tr>\n",
       "      <th>7</th>\n",
       "      <td>KNeighborsClassifier</td>\n",
       "      <td>0.527132</td>\n",
       "      <td>0.682292</td>\n",
       "    </tr>\n",
       "    <tr>\n",
       "      <th>2</th>\n",
       "      <td>SGDClassifier</td>\n",
       "      <td>0.531008</td>\n",
       "      <td>0.682415</td>\n",
       "    </tr>\n",
       "    <tr>\n",
       "      <th>1</th>\n",
       "      <td>RidgeClassifier</td>\n",
       "      <td>0.534884</td>\n",
       "      <td>0.687500</td>\n",
       "    </tr>\n",
       "    <tr>\n",
       "      <th>4</th>\n",
       "      <td>LinearSVC</td>\n",
       "      <td>0.534884</td>\n",
       "      <td>0.687500</td>\n",
       "    </tr>\n",
       "    <tr>\n",
       "      <th>0</th>\n",
       "      <td>PassiveAggressiveClassifier</td>\n",
       "      <td>0.538760</td>\n",
       "      <td>0.692506</td>\n",
       "    </tr>\n",
       "    <tr>\n",
       "      <th>6</th>\n",
       "      <td>MultinomialNB</td>\n",
       "      <td>0.550388</td>\n",
       "      <td>0.708543</td>\n",
       "    </tr>\n",
       "  </tbody>\n",
       "</table>\n",
       "</div>"
      ],
      "text/plain": [
       "                          name  test_acc   test_f1\n",
       "3                   Perceptron  0.457364  0.156627\n",
       "8              NearestCentroid  0.465116  0.197674\n",
       "5                  BernoulliNB  0.468992  0.217143\n",
       "9       RandomForestClassifier  0.468992  0.225989\n",
       "7         KNeighborsClassifier  0.527132  0.682292\n",
       "2                SGDClassifier  0.531008  0.682415\n",
       "1              RidgeClassifier  0.534884  0.687500\n",
       "4                    LinearSVC  0.534884  0.687500\n",
       "0  PassiveAggressiveClassifier  0.538760  0.692506\n",
       "6                MultinomialNB  0.550388  0.708543"
      ]
     },
     "execution_count": 73,
     "metadata": {},
     "output_type": "execute_result"
    }
   ],
   "source": [
    "get_measurements_df(x_train_best, y_train, x_test_best, y_test, result_type=0)"
   ]
  },
  {
   "cell_type": "code",
   "execution_count": null,
   "metadata": {},
   "outputs": [],
   "source": []
  },
  {
   "cell_type": "markdown",
   "metadata": {},
   "source": [
    "## Часть 3. Творческая [4 балла]\n",
    "Придумайте и попытайтесь сделать еще что-нибудь, чтобы улучшить качество классификации. \n",
    "Направления развития:\n",
    "* Морфологический признаки: \n",
    "    * использовать в качестве признаков только существительные или только именованные сущности;\n",
    "* Модели скрытых тем:\n",
    "    * использовать в качестве признаков скрытые темы;\n",
    "    * использовать в качестве признаков динамические скрытые темы \n",
    "    пример тут: (https://github.com/RaRe-Technologies/gensim/blob/develop/docs/notebooks/dtm_example.ipynb)\n",
    "* Синтаксические признаки:\n",
    "    * использовать SOV-тройки в качестве признаков\n",
    "    * кластеризовать SOV-тройки по усредненным эмбеддингам  (обученные word2vec модели можно скачать отсюда: (http://rusvectores.org/ru/models/ или https://github.com/facebookresearch/fastText/blob/master/pretrained-vectors.md) и использовать только центроиды кластеров в качестве признаков\n",
    "* что-нибудь еще     "
   ]
  },
  {
   "cell_type": "code",
   "execution_count": 31,
   "metadata": {},
   "outputs": [],
   "source": [
    "import pymorphy2\n",
    "morph = pymorphy2.MorphAnalyzer()"
   ]
  },
  {
   "cell_type": "markdown",
   "metadata": {},
   "source": [
    "Напишем функции для фильтрации слов в тексте"
   ]
  },
  {
   "cell_type": "code",
   "execution_count": 19,
   "metadata": {},
   "outputs": [],
   "source": [
    "def filter_text(text, filter):\n",
    "    nopunc = [char for char in text if char not in string.punctuation]\n",
    "    nopunc = ''.join(nopunc).lower()\n",
    "    words = CountVectorizer().build_tokenizer()(nopunc)\n",
    "    nouns = [word for word in words if filter(word)]\n",
    "    return ' '.join(nouns)\n",
    "\n",
    "def only_nouns(text):\n",
    "    def is_noun(word):\n",
    "        return morph.parse(word)[0].tag.POS == 'NOUN'\n",
    "    return filter_text(text, is_noun)"
   ]
  },
  {
   "cell_type": "markdown",
   "metadata": {},
   "source": [
    "Датафрейм только с существительными:"
   ]
  },
  {
   "cell_type": "code",
   "execution_count": 20,
   "metadata": {
    "scrolled": true
   },
   "outputs": [
    {
     "data": {
      "text/html": [
       "<div>\n",
       "<style scoped>\n",
       "    .dataframe tbody tr th:only-of-type {\n",
       "        vertical-align: middle;\n",
       "    }\n",
       "\n",
       "    .dataframe tbody tr th {\n",
       "        vertical-align: top;\n",
       "    }\n",
       "\n",
       "    .dataframe thead th {\n",
       "        text-align: right;\n",
       "    }\n",
       "</style>\n",
       "<table border=\"1\" class=\"dataframe\">\n",
       "  <thead>\n",
       "    <tr style=\"text-align: right;\">\n",
       "      <th></th>\n",
       "      <th>date</th>\n",
       "      <th>text</th>\n",
       "    </tr>\n",
       "  </thead>\n",
       "  <tbody>\n",
       "    <tr>\n",
       "      <th>0</th>\n",
       "      <td>09.11.2017</td>\n",
       "      <td>компан решен спор украин конц декабр газпр реш...</td>\n",
       "    </tr>\n",
       "    <tr>\n",
       "      <th>1</th>\n",
       "      <td>08.11.2017</td>\n",
       "      <td>газпр жалоб партнер налогообложен проект рф сн...</td>\n",
       "    </tr>\n",
       "    <tr>\n",
       "      <th>2</th>\n",
       "      <td>01.11.2017</td>\n",
       "      <td>редакц санкц угроз проект компан граждан компа...</td>\n",
       "    </tr>\n",
       "    <tr>\n",
       "      <th>3</th>\n",
       "      <td>30.10.2017</td>\n",
       "      <td>рынк рискменеджер итспециалист вад кулик работ...</td>\n",
       "    </tr>\n",
       "    <tr>\n",
       "      <th>4</th>\n",
       "      <td>23.10.2017</td>\n",
       "      <td>новатэк лет камчатк термина пробл обеспечен ре...</td>\n",
       "    </tr>\n",
       "  </tbody>\n",
       "</table>\n",
       "</div>"
      ],
      "text/plain": [
       "         date                                               text\n",
       "0  09.11.2017  компан решен спор украин конц декабр газпр реш...\n",
       "1  08.11.2017  газпр жалоб партнер налогообложен проект рф сн...\n",
       "2  01.11.2017  редакц санкц угроз проект компан граждан компа...\n",
       "3  30.10.2017  рынк рискменеджер итспециалист вад кулик работ...\n",
       "4  23.10.2017  новатэк лет камчатк термина пробл обеспечен ре..."
      ]
     },
     "execution_count": 20,
     "metadata": {},
     "output_type": "execute_result"
    }
   ],
   "source": [
    "df_nouns = df_orig.copy()\n",
    "df_nouns.text = df_nouns.text.apply(only_nouns).apply(text_process)\n",
    "df_nouns.head()"
   ]
  },
  {
   "cell_type": "markdown",
   "metadata": {},
   "source": [
    "Так как хороших синтаксических анализаторов для русского языка не было найдено, в качестве демонстрации синтаксических признаков оставим только существительные и глаголы."
   ]
  },
  {
   "cell_type": "code",
   "execution_count": 25,
   "metadata": {},
   "outputs": [],
   "source": [
    "def syntactic(text):\n",
    "    def is_syntactic(word):\n",
    "        return morph.parse(word)[0].tag.POS in ['NOUN', 'VERB']\n",
    "    return filter_text(text, is_syntactic)"
   ]
  },
  {
   "cell_type": "code",
   "execution_count": 26,
   "metadata": {},
   "outputs": [
    {
     "data": {
      "text/html": [
       "<div>\n",
       "<style scoped>\n",
       "    .dataframe tbody tr th:only-of-type {\n",
       "        vertical-align: middle;\n",
       "    }\n",
       "\n",
       "    .dataframe tbody tr th {\n",
       "        vertical-align: top;\n",
       "    }\n",
       "\n",
       "    .dataframe thead th {\n",
       "        text-align: right;\n",
       "    }\n",
       "</style>\n",
       "<table border=\"1\" class=\"dataframe\">\n",
       "  <thead>\n",
       "    <tr style=\"text-align: right;\">\n",
       "      <th></th>\n",
       "      <th>date</th>\n",
       "      <th>text</th>\n",
       "    </tr>\n",
       "  </thead>\n",
       "  <tbody>\n",
       "    <tr>\n",
       "      <th>0</th>\n",
       "      <td>09.11.2017</td>\n",
       "      <td>компан рассчитыва решен спор украин конц декаб...</td>\n",
       "    </tr>\n",
       "    <tr>\n",
       "      <th>1</th>\n",
       "      <td>08.11.2017</td>\n",
       "      <td>предполага газпр жалоб партнер налогообложен п...</td>\n",
       "    </tr>\n",
       "    <tr>\n",
       "      <th>2</th>\n",
       "      <td>01.11.2017</td>\n",
       "      <td>редакц санкц став угроз проект компан граждан ...</td>\n",
       "    </tr>\n",
       "    <tr>\n",
       "      <th>3</th>\n",
       "      <td>30.10.2017</td>\n",
       "      <td>стал рынк рискменеджер итспециалист вад кулик ...</td>\n",
       "    </tr>\n",
       "    <tr>\n",
       "      <th>4</th>\n",
       "      <td>23.10.2017</td>\n",
       "      <td>новатэк лет собира камчатк термина пробл обесп...</td>\n",
       "    </tr>\n",
       "  </tbody>\n",
       "</table>\n",
       "</div>"
      ],
      "text/plain": [
       "         date                                               text\n",
       "0  09.11.2017  компан рассчитыва решен спор украин конц декаб...\n",
       "1  08.11.2017  предполага газпр жалоб партнер налогообложен п...\n",
       "2  01.11.2017  редакц санкц став угроз проект компан граждан ...\n",
       "3  30.10.2017  стал рынк рискменеджер итспециалист вад кулик ...\n",
       "4  23.10.2017  новатэк лет собира камчатк термина пробл обесп..."
      ]
     },
     "execution_count": 26,
     "metadata": {},
     "output_type": "execute_result"
    }
   ],
   "source": [
    "df_synt = df_orig.copy()\n",
    "df_synt.text = df_synt.text.apply(syntactic).apply(text_process)\n",
    "df_synt.head()"
   ]
  },
  {
   "cell_type": "markdown",
   "metadata": {},
   "source": [
    "## Сдача домашнего задания\n",
    "\n",
    "Дедлайн сдачи домашнего задания:  23:59 22.03.2018. Каждый день просрочки дедлайна штрафуется -1 баллом.\n",
    "\n",
    "Результаты домашнего задания должны быть оформлены в виде отчета в jupyter notebook.\n",
    "Нормальный отчёт должен включать в себя:\n",
    "* Краткую постановку задачи и формулировку задания\n",
    "* Описание минимума необходимой теории и/или описание используемых инструментов \n",
    "* Подробный пошаговый рассказ о проделанной работе\n",
    "* **Аккуратно** оформленные результаты\n",
    "* Подробные и внятные ответы на все заданные вопросы \n",
    "* Внятные выводы – не стоит относится к домашнему заданию как к последовательности сугубо технических шагов, а стоит относится скорее как к небольшому практическому исследованию, у которого есть своя цель и свое назначение.\n",
    "\n",
    "Задание выполняется в группе до трех человек. Не забудьте перечислить фамилии всех, кто работал над домашнем задании, в jupyter notebook.  \n",
    "\n",
    "В случае использования какого-либо строннего источника информации обязательно дайте на него ссылку (поскольку другие тоже могут на него наткнуться). Плагиат наказывается нулём баллов за задание и предвзятым отношением в будущем.\n",
    "\n",
    "\n",
    "При возникновении проблем с выполнением задания обращайтесь с вопросами к преподавателю по семинарским занятиям в вашей группе или у учебным ассистентам.\n",
    "\n",
    "Учебный ассистент по ДЗ 2: Таисия Глушкова (email: glushkovato@gmail.com, telegram: @glushkovato).\n",
    "\n",
    "\n",
    "Небрежное оформление отчета существенно отразится на итоговой оценке. Весь код из отчёта должен быть воспроизводимым, если для этого нужны какие-то дополнительные действия, установленные модули и т.п. — всё это должно быть прописано в отчете в явном виде.\n",
    "\n",
    "Сдача отчетов осуществляется через систему AnyTask.\n",
    "\n"
   ]
  }
 ],
 "metadata": {
  "kernelspec": {
   "display_name": "Python 3",
   "language": "python",
   "name": "python3"
  },
  "language_info": {
   "codemirror_mode": {
    "name": "ipython",
    "version": 2
   },
   "file_extension": ".py",
   "mimetype": "text/x-python",
   "name": "python",
   "nbconvert_exporter": "python",
   "pygments_lexer": "ipython2",
   "version": "2.7.14"
  }
 },
 "nbformat": 4,
 "nbformat_minor": 2
}
