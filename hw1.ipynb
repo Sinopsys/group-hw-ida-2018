{
 "cells": [
  {
   "cell_type": "markdown",
   "metadata": {},
   "source": [
    "# Майнор \"Прикладные задачи анализа данных\"\n",
    "## Домашнее задание 1 [10 баллов] до 23:59 17.02.2018\n",
    "\n",
    "В этом домашнем задании вам потребуется написать генератор описания прогноза погоды на следующую неделю в каком-нибудь городе. Домашнее задание состоит из трех частей:\n",
    "1. Скачивание данных о состоянии погоды в городе с gismeteo.ru\n",
    "2. Генерация описания прогноза\n",
    "3. Творческая часть\n",
    "\n",
    "Все три части можно считать независимыми – вы можете сделать одну или две из них, однако мы настоятельно советуем выполнить все три. Все инструкции по выполнению домашнего задания – ниже. \n",
    "\n"
   ]
  },
  {
   "cell_type": "markdown",
   "metadata": {},
   "source": [
    "### 1. Сбор данных [3 балла]\n",
    "\n",
    "Выберите произвольным образом город в России и найдите прогноз погоды в нем на ближайшие 10 дней на сайте gismeteo.ru.\n",
    "\n",
    "Пример: прогноз на 10 ближайших дней в Москве – https://www.gismeteo.ru/weather-moscow-4368/10-days/\n",
    "\n",
    "Используя известные вам библиотеки для работы с протоколом http и html кодом, извлеките прогноз на ближайшие 10 дней, начиная со дня, когда вы начали делать домашнее задание.  \n",
    "\n",
    "Резльтатом сбора данных должна быть таблица со следующими строками:\n",
    "* минимальная температура\n",
    "* максимальна температура\n",
    "* скорость ветра\n",
    "* уровень осадков \n",
    "\n",
    "В столбцах таблицы должны быть даты и дни недели.  Пример итоговой таблицы вы найдете в следующей части задания. "
   ]
  },
  {
   "cell_type": "markdown",
   "metadata": {},
   "source": [
    "Сделаем import всех необходимых библиотек."
   ]
  },
  {
   "cell_type": "code",
   "execution_count": 1,
   "metadata": {},
   "outputs": [],
   "source": [
    "from scrapy.crawler import CrawlerProcess\n",
    "from twisted.internet.error import ReactorNotRestartable\n",
    "import scrapy\n",
    "import random\n",
    "import pandas as pd\n",
    "from json import dump\n",
    "import datetime\n",
    "import re"
   ]
  },
  {
   "cell_type": "markdown",
   "metadata": {},
   "source": [
    "Выберем случайный российский город. Данные взяты из [Википедии](https://en.wikipedia.org/wiki/List_of_cities_and_towns_in_Russia)."
   ]
  },
  {
   "cell_type": "code",
   "execution_count": 2,
   "metadata": {},
   "outputs": [],
   "source": [
    "CITIES_URL = 'https://en.wikipedia.org/wiki/List_of_cities_and_towns_in_Russia'\n",
    "CITY_SELECTOR = '//tr/td[2]'"
   ]
  },
  {
   "cell_type": "code",
   "execution_count": 3,
   "metadata": {},
   "outputs": [],
   "source": [
    "cities = []\n",
    "class RussianCities(scrapy.Spider):\n",
    "    name = 'russian_cities'\n",
    "    start_urls = [CITIES_URL,]\n",
    "    def parse(self, response):\n",
    "        for city in response.xpath(CITY_SELECTOR):\n",
    "            cities.append(city.xpath('text()').extract_first())"
   ]
  },
  {
   "cell_type": "code",
   "execution_count": 4,
   "metadata": {
    "collapsed": true
   },
   "outputs": [
    {
     "name": "stderr",
     "output_type": "stream",
     "text": [
      "2018-02-13 02:12:03 [scrapy.utils.log] INFO: Scrapy 1.5.0 started (bot: scrapybot)\n",
      "2018-02-13 02:12:03 [scrapy.utils.log] INFO: Versions: lxml 4.1.1.0, libxml2 2.9.7, cssselect 1.0.3, parsel 1.4.0, w3lib 1.19.0, Twisted 17.9.0, Python 2.7.14 (default, Jan  5 2018, 10:41:29) - [GCC 7.2.1 20171224], pyOpenSSL 17.5.0 (OpenSSL 1.1.0g  2 Nov 2017), cryptography 2.1.4, Platform Linux-4.14.15-gnu-1-x86_64-with-glibc2.2.5\n",
      "2018-02-13 02:12:03 [scrapy.crawler] INFO: Overridden settings: {}\n",
      "2018-02-13 02:12:03 [scrapy.middleware] INFO: Enabled extensions:\n",
      "['scrapy.extensions.memusage.MemoryUsage',\n",
      " 'scrapy.extensions.logstats.LogStats',\n",
      " 'scrapy.extensions.telnet.TelnetConsole',\n",
      " 'scrapy.extensions.corestats.CoreStats']\n",
      "2018-02-13 02:12:03 [scrapy.middleware] INFO: Enabled downloader middlewares:\n",
      "['scrapy.downloadermiddlewares.httpauth.HttpAuthMiddleware',\n",
      " 'scrapy.downloadermiddlewares.downloadtimeout.DownloadTimeoutMiddleware',\n",
      " 'scrapy.downloadermiddlewares.defaultheaders.DefaultHeadersMiddleware',\n",
      " 'scrapy.downloadermiddlewares.useragent.UserAgentMiddleware',\n",
      " 'scrapy.downloadermiddlewares.retry.RetryMiddleware',\n",
      " 'scrapy.downloadermiddlewares.redirect.MetaRefreshMiddleware',\n",
      " 'scrapy.downloadermiddlewares.httpcompression.HttpCompressionMiddleware',\n",
      " 'scrapy.downloadermiddlewares.redirect.RedirectMiddleware',\n",
      " 'scrapy.downloadermiddlewares.cookies.CookiesMiddleware',\n",
      " 'scrapy.downloadermiddlewares.httpproxy.HttpProxyMiddleware',\n",
      " 'scrapy.downloadermiddlewares.stats.DownloaderStats']\n",
      "2018-02-13 02:12:03 [scrapy.middleware] INFO: Enabled spider middlewares:\n",
      "['scrapy.spidermiddlewares.httperror.HttpErrorMiddleware',\n",
      " 'scrapy.spidermiddlewares.offsite.OffsiteMiddleware',\n",
      " 'scrapy.spidermiddlewares.referer.RefererMiddleware',\n",
      " 'scrapy.spidermiddlewares.urllength.UrlLengthMiddleware',\n",
      " 'scrapy.spidermiddlewares.depth.DepthMiddleware']\n",
      "2018-02-13 02:12:03 [scrapy.middleware] INFO: Enabled item pipelines:\n",
      "[]\n",
      "2018-02-13 02:12:03 [scrapy.core.engine] INFO: Spider opened\n",
      "2018-02-13 02:12:03 [scrapy.extensions.logstats] INFO: Crawled 0 pages (at 0 pages/min), scraped 0 items (at 0 items/min)\n",
      "2018-02-13 02:12:03 [scrapy.extensions.telnet] DEBUG: Telnet console listening on 127.0.0.1:6025\n",
      "2018-02-13 02:12:03 [scrapy.core.engine] DEBUG: Crawled (200) <GET https://en.wikipedia.org/wiki/List_of_cities_and_towns_in_Russia> (referer: None)\n",
      "2018-02-13 02:12:04 [scrapy.core.engine] INFO: Closing spider (finished)\n",
      "2018-02-13 02:12:04 [scrapy.statscollectors] INFO: Dumping Scrapy stats:\n",
      "{'downloader/request_bytes': 254,\n",
      " 'downloader/request_count': 1,\n",
      " 'downloader/request_method_count/GET': 1,\n",
      " 'downloader/response_bytes': 71927,\n",
      " 'downloader/response_count': 1,\n",
      " 'downloader/response_status_count/200': 1,\n",
      " 'finish_reason': 'finished',\n",
      " 'finish_time': datetime.datetime(2018, 2, 12, 23, 12, 4, 261426),\n",
      " 'log_count/DEBUG': 2,\n",
      " 'log_count/INFO': 7,\n",
      " 'memusage/max': 104808448,\n",
      " 'memusage/startup': 104681472,\n",
      " 'response_received_count': 1,\n",
      " 'scheduler/dequeued': 1,\n",
      " 'scheduler/dequeued/memory': 1,\n",
      " 'scheduler/enqueued': 1,\n",
      " 'scheduler/enqueued/memory': 1,\n",
      " 'start_time': datetime.datetime(2018, 2, 12, 23, 12, 3, 600940)}\n",
      "2018-02-13 02:12:04 [scrapy.core.engine] INFO: Spider closed (finished)\n"
     ]
    }
   ],
   "source": [
    "process = CrawlerProcess()\n",
    "process.crawl(RussianCities)\n",
    "process.start()"
   ]
  },
  {
   "cell_type": "code",
   "execution_count": 5,
   "metadata": {},
   "outputs": [
    {
     "data": {
      "text/plain": [
       "1112"
      ]
     },
     "execution_count": 5,
     "metadata": {},
     "output_type": "execute_result"
    }
   ],
   "source": [
    "len(cities)"
   ]
  },
  {
   "cell_type": "code",
   "execution_count": 6,
   "metadata": {},
   "outputs": [
    {
     "name": "stdout",
     "output_type": "stream",
     "text": [
      "Сергиев Посад\n"
     ]
    }
   ],
   "source": [
    "random.seed(4118956)\n",
    "print(random.choice(cities))"
   ]
  },
  {
   "cell_type": "markdown",
   "metadata": {},
   "source": [
    "Выбрали Сергиев Посад. "
   ]
  },
  {
   "cell_type": "code",
   "execution_count": 1,
   "metadata": {},
   "outputs": [],
   "source": [
    "CITY_URL = 'https://www.gismeteo.ru/weather-sergiyev-posad-11958/10-days/'\n",
    "\n",
    "SELECTORS = {\n",
    "    'weekday': '//div[@class=\"forecast_frame\"]//div[@class=\"w_date__day\"]/text()',\n",
    "    'day': '//span[contains(@class, \"w_date__date\")]/text()',\n",
    "    'min_temp': '//div[@class=\"maxt\"]/text()',\n",
    "    'max_temp': '//div[@class=\"mint\"]/text()',\n",
    "    'wind_speed': '//div[contains(@class,\"w_wind__warning\")]/text()',\n",
    "    'precipitation': '//div[contains(@class,\"w_precipitation__value\")]/text()',\n",
    "}\n",
    "\n",
    "def process_digit(d):\n",
    "    '''\n",
    "    Removes all junk like \\n and whitespaces.\n",
    "    Returns: pure float number.\n",
    "    '''\n",
    "    return re.findall('[\\d,]+', d)[0]"
   ]
  },
  {
   "cell_type": "markdown",
   "metadata": {},
   "source": [
    "Данные о погоде будут собираться по состоянию на 12.02.2018"
   ]
  },
  {
   "cell_type": "code",
   "execution_count": 2,
   "metadata": {},
   "outputs": [],
   "source": [
    "json_data = []\n",
    "class GismeteoForecast(scrapy.Spider):\n",
    "    name = 'gismeteo_forecast'\n",
    "    start_urls = [CITY_URL,]\n",
    "    def parse(self, response):\n",
    "        weekdays = response.xpath(SELECTORS['weekday']).extract()\n",
    "        days = response.xpath(SELECTORS['day']).extract()[:10]\n",
    "        min_temp = response.xpath(SELECTORS['min_temp']).extract()[:10]\n",
    "        max_temp = response.xpath(SELECTORS['max_temp']).extract()[:10]\n",
    "        wind_speed =  response.xpath(SELECTORS['wind_speed']).extract()[:10]\n",
    "        precipitation = response.xpath(SELECTORS['precipitation']).extract()\n",
    "        for i in range(10):\n",
    "            json_data.append({\n",
    "                'weekday': weekdays[i],\n",
    "                'day': process_digit(days[i]),\n",
    "                'minTemp': min_temp[i],\n",
    "                'maxTemp': max_temp[i],\n",
    "                'windSpeed': process_digit(wind_speed[i]),\n",
    "                'precipitation': process_digit(precipitation[i]),\n",
    "            })"
   ]
  },
  {
   "cell_type": "code",
   "execution_count": 3,
   "metadata": {
    "collapsed": true
   },
   "outputs": [
    {
     "name": "stderr",
     "output_type": "stream",
     "text": [
      "2018-02-13 02:12:41 [scrapy.utils.log] INFO: Scrapy 1.5.0 started (bot: scrapybot)\n",
      "2018-02-13 02:12:41 [scrapy.utils.log] INFO: Versions: lxml 4.1.1.0, libxml2 2.9.7, cssselect 1.0.3, parsel 1.4.0, w3lib 1.19.0, Twisted 17.9.0, Python 2.7.14 (default, Jan  5 2018, 10:41:29) - [GCC 7.2.1 20171224], pyOpenSSL 17.5.0 (OpenSSL 1.1.0g  2 Nov 2017), cryptography 2.1.4, Platform Linux-4.14.15-gnu-1-x86_64-with-glibc2.2.5\n",
      "2018-02-13 02:12:41 [scrapy.crawler] INFO: Overridden settings: {}\n",
      "2018-02-13 02:12:41 [scrapy.middleware] INFO: Enabled extensions:\n",
      "['scrapy.extensions.memusage.MemoryUsage',\n",
      " 'scrapy.extensions.logstats.LogStats',\n",
      " 'scrapy.extensions.telnet.TelnetConsole',\n",
      " 'scrapy.extensions.corestats.CoreStats']\n",
      "2018-02-13 02:12:41 [scrapy.middleware] INFO: Enabled downloader middlewares:\n",
      "['scrapy.downloadermiddlewares.httpauth.HttpAuthMiddleware',\n",
      " 'scrapy.downloadermiddlewares.downloadtimeout.DownloadTimeoutMiddleware',\n",
      " 'scrapy.downloadermiddlewares.defaultheaders.DefaultHeadersMiddleware',\n",
      " 'scrapy.downloadermiddlewares.useragent.UserAgentMiddleware',\n",
      " 'scrapy.downloadermiddlewares.retry.RetryMiddleware',\n",
      " 'scrapy.downloadermiddlewares.redirect.MetaRefreshMiddleware',\n",
      " 'scrapy.downloadermiddlewares.httpcompression.HttpCompressionMiddleware',\n",
      " 'scrapy.downloadermiddlewares.redirect.RedirectMiddleware',\n",
      " 'scrapy.downloadermiddlewares.cookies.CookiesMiddleware',\n",
      " 'scrapy.downloadermiddlewares.httpproxy.HttpProxyMiddleware',\n",
      " 'scrapy.downloadermiddlewares.stats.DownloaderStats']\n",
      "2018-02-13 02:12:41 [scrapy.middleware] INFO: Enabled spider middlewares:\n",
      "['scrapy.spidermiddlewares.httperror.HttpErrorMiddleware',\n",
      " 'scrapy.spidermiddlewares.offsite.OffsiteMiddleware',\n",
      " 'scrapy.spidermiddlewares.referer.RefererMiddleware',\n",
      " 'scrapy.spidermiddlewares.urllength.UrlLengthMiddleware',\n",
      " 'scrapy.spidermiddlewares.depth.DepthMiddleware']\n",
      "2018-02-13 02:12:41 [scrapy.middleware] INFO: Enabled item pipelines:\n",
      "[]\n",
      "2018-02-13 02:12:41 [scrapy.core.engine] INFO: Spider opened\n",
      "2018-02-13 02:12:41 [scrapy.extensions.logstats] INFO: Crawled 0 pages (at 0 pages/min), scraped 0 items (at 0 items/min)\n",
      "2018-02-13 02:12:41 [scrapy.extensions.telnet] DEBUG: Telnet console listening on 127.0.0.1:6025\n",
      "2018-02-13 02:12:42 [scrapy.core.engine] DEBUG: Crawled (200) <GET https://www.gismeteo.ru/weather-sergiyev-posad-11958/10-days/> (referer: None)\n",
      "2018-02-13 02:12:42 [scrapy.core.engine] INFO: Closing spider (finished)\n",
      "2018-02-13 02:12:42 [scrapy.statscollectors] INFO: Dumping Scrapy stats:\n",
      "{'downloader/request_bytes': 251,\n",
      " 'downloader/request_count': 1,\n",
      " 'downloader/request_method_count/GET': 1,\n",
      " 'downloader/response_bytes': 51964,\n",
      " 'downloader/response_count': 1,\n",
      " 'downloader/response_status_count/200': 1,\n",
      " 'finish_reason': 'finished',\n",
      " 'finish_time': datetime.datetime(2018, 2, 12, 23, 12, 42, 284771),\n",
      " 'log_count/DEBUG': 2,\n",
      " 'log_count/INFO': 7,\n",
      " 'memusage/max': 107249664,\n",
      " 'memusage/startup': 107249664,\n",
      " 'response_received_count': 1,\n",
      " 'scheduler/dequeued': 1,\n",
      " 'scheduler/dequeued/memory': 1,\n",
      " 'scheduler/enqueued': 1,\n",
      " 'scheduler/enqueued/memory': 1,\n",
      " 'start_time': datetime.datetime(2018, 2, 12, 23, 12, 41, 883018)}\n",
      "2018-02-13 02:12:42 [scrapy.core.engine] INFO: Spider closed (finished)\n"
     ]
    }
   ],
   "source": [
    "try:\n",
    "    process = CrawlerProcess()\n",
    "    process.crawl(GismeteoForecast)\n",
    "    process.start()\n",
    "except ReactorNotRestartable:\n",
    "    print('\\n\\n\\n------------\\nRestart kernel and rerun this cell.\\n------------')"
   ]
  },
  {
   "cell_type": "markdown",
   "metadata": {},
   "source": [
    "Сохраним результаты в json."
   ]
  },
  {
   "cell_type": "code",
   "execution_count": 4,
   "metadata": {},
   "outputs": [],
   "source": [
    "with open('result.json', 'w') as fp:\n",
    "    dump(json_data, fp)"
   ]
  },
  {
   "cell_type": "markdown",
   "metadata": {},
   "source": [
    "Считаем в dataframe записанный json-файл."
   ]
  },
  {
   "cell_type": "code",
   "execution_count": 5,
   "metadata": {},
   "outputs": [],
   "source": [
    "df = pd.read_json('./result.json')"
   ]
  },
  {
   "cell_type": "code",
   "execution_count": 6,
   "metadata": {},
   "outputs": [
    {
     "data": {
      "text/html": [
       "<div>\n",
       "<style scoped>\n",
       "    .dataframe tbody tr th:only-of-type {\n",
       "        vertical-align: middle;\n",
       "    }\n",
       "\n",
       "    .dataframe tbody tr th {\n",
       "        vertical-align: top;\n",
       "    }\n",
       "\n",
       "    .dataframe thead th {\n",
       "        text-align: right;\n",
       "    }\n",
       "</style>\n",
       "<table border=\"1\" class=\"dataframe\">\n",
       "  <thead>\n",
       "    <tr style=\"text-align: right;\">\n",
       "      <th></th>\n",
       "      <th>day</th>\n",
       "      <th>maxTemp</th>\n",
       "      <th>minTemp</th>\n",
       "      <th>precipitation</th>\n",
       "      <th>weekday</th>\n",
       "      <th>windSpeed</th>\n",
       "    </tr>\n",
       "  </thead>\n",
       "  <tbody>\n",
       "    <tr>\n",
       "      <th>0</th>\n",
       "      <td>13</td>\n",
       "      <td>−13</td>\n",
       "      <td>−7</td>\n",
       "      <td>0</td>\n",
       "      <td>Вт</td>\n",
       "      <td>7</td>\n",
       "    </tr>\n",
       "    <tr>\n",
       "      <th>1</th>\n",
       "      <td>14</td>\n",
       "      <td>−14</td>\n",
       "      <td>−8</td>\n",
       "      <td>0</td>\n",
       "      <td>Ср</td>\n",
       "      <td>8</td>\n",
       "    </tr>\n",
       "    <tr>\n",
       "      <th>2</th>\n",
       "      <td>15</td>\n",
       "      <td>−13</td>\n",
       "      <td>−8</td>\n",
       "      <td>0,2</td>\n",
       "      <td>Чт</td>\n",
       "      <td>7</td>\n",
       "    </tr>\n",
       "    <tr>\n",
       "      <th>3</th>\n",
       "      <td>16</td>\n",
       "      <td>−8</td>\n",
       "      <td>−4</td>\n",
       "      <td>3</td>\n",
       "      <td>Пт</td>\n",
       "      <td>10</td>\n",
       "    </tr>\n",
       "    <tr>\n",
       "      <th>4</th>\n",
       "      <td>17</td>\n",
       "      <td>−5</td>\n",
       "      <td>−2</td>\n",
       "      <td>3,8</td>\n",
       "      <td>Сб</td>\n",
       "      <td>10</td>\n",
       "    </tr>\n",
       "    <tr>\n",
       "      <th>5</th>\n",
       "      <td>18</td>\n",
       "      <td>−4</td>\n",
       "      <td>−1</td>\n",
       "      <td>0,8</td>\n",
       "      <td>Вс</td>\n",
       "      <td>8</td>\n",
       "    </tr>\n",
       "    <tr>\n",
       "      <th>6</th>\n",
       "      <td>19</td>\n",
       "      <td>−3</td>\n",
       "      <td>−1</td>\n",
       "      <td>0,8</td>\n",
       "      <td>Пн</td>\n",
       "      <td>9</td>\n",
       "    </tr>\n",
       "    <tr>\n",
       "      <th>7</th>\n",
       "      <td>20</td>\n",
       "      <td>−2</td>\n",
       "      <td>+3</td>\n",
       "      <td>8,8</td>\n",
       "      <td>Вт</td>\n",
       "      <td>15</td>\n",
       "    </tr>\n",
       "    <tr>\n",
       "      <th>8</th>\n",
       "      <td>21</td>\n",
       "      <td>−4</td>\n",
       "      <td>+3</td>\n",
       "      <td>0,2</td>\n",
       "      <td>Ср</td>\n",
       "      <td>15</td>\n",
       "    </tr>\n",
       "    <tr>\n",
       "      <th>9</th>\n",
       "      <td>22</td>\n",
       "      <td>−9</td>\n",
       "      <td>−4</td>\n",
       "      <td>0</td>\n",
       "      <td>Чт</td>\n",
       "      <td>5</td>\n",
       "    </tr>\n",
       "  </tbody>\n",
       "</table>\n",
       "</div>"
      ],
      "text/plain": [
       "   day maxTemp minTemp precipitation weekday  windSpeed\n",
       "0   13     −13      −7             0      Вт          7\n",
       "1   14     −14      −8             0      Ср          8\n",
       "2   15     −13      −8           0,2      Чт          7\n",
       "3   16      −8      −4             3      Пт         10\n",
       "4   17      −5      −2           3,8      Сб         10\n",
       "5   18      −4      −1           0,8      Вс          8\n",
       "6   19      −3      −1           0,8      Пн          9\n",
       "7   20      −2      +3           8,8      Вт         15\n",
       "8   21      −4      +3           0,2      Ср         15\n",
       "9   22      −9      −4             0      Чт          5"
      ]
     },
     "execution_count": 6,
     "metadata": {},
     "output_type": "execute_result"
    }
   ],
   "source": [
    "df"
   ]
  },
  {
   "cell_type": "markdown",
   "metadata": {},
   "source": [
    "Зададим таблице правильный индекс и транспонируем."
   ]
  },
  {
   "cell_type": "code",
   "execution_count": 7,
   "metadata": {},
   "outputs": [],
   "source": [
    "days = df['day']\n",
    "weekdays = df['weekday']\n",
    "new_index = []\n",
    "\n",
    "for day, w_day in zip(days, weekdays):\n",
    "    new_index.append('{d}.0{m} ({w})'.format(d=day,\n",
    "                                            w=w_day.encode('utf-8'),\n",
    "                                            m=datetime.date.today().month))\n",
    "\n",
    "df.drop(['day', 'weekday'], axis=1, inplace=True)\n",
    "df.index = new_index\n",
    "df = df.T"
   ]
  },
  {
   "cell_type": "code",
   "execution_count": 8,
   "metadata": {},
   "outputs": [
    {
     "data": {
      "text/html": [
       "<div>\n",
       "<style scoped>\n",
       "    .dataframe tbody tr th:only-of-type {\n",
       "        vertical-align: middle;\n",
       "    }\n",
       "\n",
       "    .dataframe tbody tr th {\n",
       "        vertical-align: top;\n",
       "    }\n",
       "\n",
       "    .dataframe thead th {\n",
       "        text-align: right;\n",
       "    }\n",
       "</style>\n",
       "<table border=\"1\" class=\"dataframe\">\n",
       "  <thead>\n",
       "    <tr style=\"text-align: right;\">\n",
       "      <th></th>\n",
       "      <th>13.02 (Вт)</th>\n",
       "      <th>14.02 (Ср)</th>\n",
       "      <th>15.02 (Чт)</th>\n",
       "      <th>16.02 (Пт)</th>\n",
       "      <th>17.02 (Сб)</th>\n",
       "      <th>18.02 (Вс)</th>\n",
       "      <th>19.02 (Пн)</th>\n",
       "      <th>20.02 (Вт)</th>\n",
       "      <th>21.02 (Ср)</th>\n",
       "      <th>22.02 (Чт)</th>\n",
       "    </tr>\n",
       "  </thead>\n",
       "  <tbody>\n",
       "    <tr>\n",
       "      <th>maxTemp</th>\n",
       "      <td>−13</td>\n",
       "      <td>−14</td>\n",
       "      <td>−13</td>\n",
       "      <td>−8</td>\n",
       "      <td>−5</td>\n",
       "      <td>−4</td>\n",
       "      <td>−3</td>\n",
       "      <td>−2</td>\n",
       "      <td>−4</td>\n",
       "      <td>−9</td>\n",
       "    </tr>\n",
       "    <tr>\n",
       "      <th>minTemp</th>\n",
       "      <td>−7</td>\n",
       "      <td>−8</td>\n",
       "      <td>−8</td>\n",
       "      <td>−4</td>\n",
       "      <td>−2</td>\n",
       "      <td>−1</td>\n",
       "      <td>−1</td>\n",
       "      <td>+3</td>\n",
       "      <td>+3</td>\n",
       "      <td>−4</td>\n",
       "    </tr>\n",
       "    <tr>\n",
       "      <th>precipitation</th>\n",
       "      <td>0</td>\n",
       "      <td>0</td>\n",
       "      <td>0,2</td>\n",
       "      <td>3</td>\n",
       "      <td>3,8</td>\n",
       "      <td>0,8</td>\n",
       "      <td>0,8</td>\n",
       "      <td>8,8</td>\n",
       "      <td>0,2</td>\n",
       "      <td>0</td>\n",
       "    </tr>\n",
       "    <tr>\n",
       "      <th>windSpeed</th>\n",
       "      <td>7</td>\n",
       "      <td>8</td>\n",
       "      <td>7</td>\n",
       "      <td>10</td>\n",
       "      <td>10</td>\n",
       "      <td>8</td>\n",
       "      <td>9</td>\n",
       "      <td>15</td>\n",
       "      <td>15</td>\n",
       "      <td>5</td>\n",
       "    </tr>\n",
       "  </tbody>\n",
       "</table>\n",
       "</div>"
      ],
      "text/plain": [
       "              13.02 (Вт) 14.02 (Ср) 15.02 (Чт) 16.02 (Пт) 17.02 (Сб)  \\\n",
       "maxTemp              −13        −14        −13         −8         −5   \n",
       "minTemp               −7         −8         −8         −4         −2   \n",
       "precipitation          0          0        0,2          3        3,8   \n",
       "windSpeed              7          8          7         10         10   \n",
       "\n",
       "              18.02 (Вс) 19.02 (Пн) 20.02 (Вт) 21.02 (Ср) 22.02 (Чт)  \n",
       "maxTemp               −4         −3         −2         −4         −9  \n",
       "minTemp               −1         −1         +3         +3         −4  \n",
       "precipitation        0,8        0,8        8,8        0,2          0  \n",
       "windSpeed              8          9         15         15          5  "
      ]
     },
     "execution_count": 8,
     "metadata": {},
     "output_type": "execute_result"
    }
   ],
   "source": [
    "df"
   ]
  },
  {
   "cell_type": "code",
   "execution_count": 9,
   "metadata": {},
   "outputs": [],
   "source": [
    "df.to_csv('gismeteo_forecast.csv', sep=';', encoding='utf-8')"
   ]
  },
  {
   "cell_type": "markdown",
   "metadata": {},
   "source": [
    "### 2. Генератор описания прогноза погоды [4 балла]\n",
    "\n",
    "Если у вас не получилось извлечь прогноз погоды в предыдущей части задания, воспользуйтесь таблицей ниже.\n",
    "В ней приведен прогноз четырех показателей на ближайшие 10 дней в Москве – минимальная и максимальная температура, скорость ветра и уровень осадков. "
   ]
  },
  {
   "cell_type": "markdown",
   "metadata": {},
   "source": [
    "|                | 02.02 (пт) | 03.02 (сб) | 04.02 (вс)| 05.02 (пн) | 06.02 (вт) | 07.02 (пн) | 08.02 (ср) | 09.02 (ср) | 10.02 (сб) | 11.02 (вс)\n",
    "|----------------|-------|-------|-------|-------|-------|-------|-------|\n",
    "| минимальная температура    | -9    | -1    | -8    | -13    | -12    | -15    | -21    | -14 |-8 |-8\n",
    "| максимальная температура    | -1    | +1    | -2    | -9   | -11    | -12    | -16    |-5    |-6    |-5|\n",
    "| скорость ветра | 10    | 13    | 15    | 15   |11    | 6    | 7 | 9 | 8 |12\n",
    "| уровень осадков         | 1.35  | 8.6  | 15.5  | 6.6   | 2.7   | 2.1   | 0   | 3.2   |0.8  | 0.4"
   ]
  },
  {
   "cell_type": "markdown",
   "metadata": {},
   "source": [
    "Прогноз погоды должен состоять из следующих (или подобным им) предложений, генерируемых по шаблонам (ниже три шаблона):\n",
    "* В день1 похолодает / потеплеет на X градус (-а, -ов) по сравнению с день2\n",
    "    * *В четверг в НазваниеГорода потеплеет на 7 градусов по сравнению со средой*\n",
    "* Скорость ветра изменится на X единиц в день1 по сравнению с день2.\n",
    "    * *Скорость ветра изменится на 3 единицы в понедельник по сравнению с пятницей*\n",
    "* Уровень осадков повысится / понизится на X единиц за Y дней. \n",
    "    * *Уровень осадков понится на 3.85 единиц за 7 дней*\n",
    "\n",
    "Вместо НазваниеГорода подставьте название выбранного вами города, используя фунцкии для согласования существительных с предлогами. "
   ]
  },
  {
   "cell_type": "markdown",
   "metadata": {},
   "source": [
    "Некоторые вспомогательные функции, которые вам понадобятся: согласование существительного с числительным и приведение существительного к нужному падежу: "
   ]
  },
  {
   "cell_type": "code",
   "execution_count": 4,
   "metadata": {},
   "outputs": [
    {
     "name": "stdout",
     "output_type": "stream",
     "text": [
      "1 яблоко\n",
      "2 яблока\n",
      "3 яблок\n"
     ]
    }
   ],
   "source": [
    "import pymorphy2\n",
    "morph = pymorphy2.MorphAnalyzer()\n",
    "word = 'яблоко'\n",
    "parsed_word = morph.parse(word)[0]\n",
    "print(1, parsed_word.make_agree_with_number(1).word) # согласование слова с числительным 1\n",
    "print(2, parsed_word.make_agree_with_number(2).word) # согласование слова с числительным 2\n",
    "print(3, parsed_word.make_agree_with_number(5).word) # согласование слова с числительным 5"
   ]
  },
  {
   "cell_type": "code",
   "execution_count": 6,
   "metadata": {},
   "outputs": [
    {
     "name": "stdout",
     "output_type": "stream",
     "text": [
      "яблока\n"
     ]
    }
   ],
   "source": [
    "print(parsed_word.inflect({'gent'}).word) # слово в родительном падеже"
   ]
  },
  {
   "cell_type": "markdown",
   "metadata": {},
   "source": [
    "Ниже приведен пример решения аналогичной задачи генерации текстов: генератор отчета о том, сколько и каких фруктов съел Вася."
   ]
  },
  {
   "cell_type": "code",
   "execution_count": 17,
   "metadata": {},
   "outputs": [],
   "source": [
    "def eating(n, fruit):\n",
    "    parsed_word = morph.parse(fruit)[0]\n",
    "    s = ' '.join(['Вася съел', str(n) ,parsed_word.make_agree_with_number(n).word, '.'])\n",
    "    return s"
   ]
  },
  {
   "cell_type": "code",
   "execution_count": 18,
   "metadata": {},
   "outputs": [
    {
     "data": {
      "text/plain": [
       "'Вася съел 5 яблок .'"
      ]
     },
     "execution_count": 18,
     "metadata": {},
     "output_type": "execute_result"
    }
   ],
   "source": [
    "eating(5, 'яблоко')"
   ]
  },
  {
   "cell_type": "code",
   "execution_count": 19,
   "metadata": {},
   "outputs": [
    {
     "data": {
      "text/plain": [
       "'Вася съел 4 груши .'"
      ]
     },
     "execution_count": 19,
     "metadata": {},
     "output_type": "execute_result"
    }
   ],
   "source": [
    "eating(4, 'груша')"
   ]
  },
  {
   "cell_type": "markdown",
   "metadata": {},
   "source": [
    "Пример более сложного генератора: фрукты могут есть не только мальчики, но и девочки, то есть, нужно не только согласовать числительное с существительным, но и поставить глагол в нужную форму."
   ]
  },
  {
   "cell_type": "code",
   "execution_count": 27,
   "metadata": {
    "collapsed": true
   },
   "outputs": [],
   "source": [
    "def eating(name, n, fruit):\n",
    "    name_tag = morph.parse(name)[0].tag\n",
    "    if 'masc' in name_tag:\n",
    "        gender = 'masc'\n",
    "    if 'femn' in name_tag:\n",
    "        gender = 'femn'\n",
    "    verb = morph.parse(\"съесть\")[0].inflect({'perf', gender,'sing','past','indc'}).word\n",
    "    parsed_word = morph.parse(fruit)[0]\n",
    "    s = ' '.join([name, verb, str(n) ,parsed_word.make_agree_with_number(n).word, '.'])\n",
    "    return s"
   ]
  },
  {
   "cell_type": "code",
   "execution_count": 28,
   "metadata": {},
   "outputs": [
    {
     "data": {
      "text/plain": [
       "'Маша съела 3 вишни .'"
      ]
     },
     "execution_count": 28,
     "metadata": {},
     "output_type": "execute_result"
    }
   ],
   "source": [
    "eating('Маша', 3, 'вишня')"
   ]
  },
  {
   "cell_type": "markdown",
   "metadata": {},
   "source": [
    "### 3. Ответьте на вопросы [3 балла]\n",
    "* В каких других задачах (помимо описания прогноза погоды) может понадобиться генерировать текст по шаблонам? В каких задачах может понадобиться генерировать текст об изменении числовых показателей по шаблонам?\n",
    "* Шаблоны, которые вы использовали в этом задании, имеют фиксированную структуру. Фактически, ваша задача заключалась в том, чтобы подставить в шаблон число и согласовать единицы измерения с этим числом или подставить в шаблон название города и согласовать его с предлогом. Как можно разнообразить эти шаблоны? Как знание синтаксической структуры предложения может помочь в этой задаче? "
   ]
  },
  {
   "cell_type": "markdown",
   "metadata": {},
   "source": [
    "## Сдача домашнего задания\n",
    "\n",
    "Дедлайн сдачи домашнего задания:  23:59 17.02.2018.\n",
    "\n",
    "Результаты домашнего задания должны быть оформлены в виде отчета в jupyter notebook.\n",
    "Нормальный отчёт должен включать в себя:\n",
    "* Краткую постановку задачи и формулировку задания\n",
    "* Описание минимума необходимой теории и/или описание используемых инструментов \n",
    "* Подробный пошаговый рассказ о проделанной работе\n",
    "* **Аккуратно** оформленные результаты\n",
    "* Подробные и внятные ответы на все заданные вопросы \n",
    "* Внятные выводы – не стоит относится к домашнему заданию как к последовательности сугубо технических шагов, а стоит относится скорее как к небольшому практическому исследованию, у которого есть своя цель и свое назначение.\n",
    "\n",
    "Задание выполняется в группе до трех человек. Не забудьте перечислить фамилии всех, кто работал над домашнем задании, в jupyter notebook.  \n",
    "\n",
    "В случае использования какого-либо строннего источника информации обязательно дайте на него ссылку (поскольку другие тоже могут на него наткнуться). Плагиат наказывается нулём баллов за задание и предвзятым отношением в будущем.\n",
    "\n",
    "\n",
    "При возникновении проблем с выполнением задания обращайтесь с вопросами к преподавателю по семинарским занятиям в вашей группе или у учебным ассистентам.\n",
    "\n",
    "Учебный ассистент по ДЗ 1: Анна Лапидус (email: anyalapidus@list.ru, telegram: @alpids).\n",
    "\n",
    "\n",
    "Небрежное оформление отчета существенно отразится на итоговой оценке. Весь код из отчёта должен быть воспроизводимым, если для этого нужны какие-то дополнительные действия, установленные модули и т.п. — всё это должно быть прописано в отчете в явном виде.\n",
    "\n",
    "Сдача отчетов осуществляется через систему AnyTask."
   ]
  },
  {
   "cell_type": "markdown",
   "metadata": {},
   "source": [
    "### Как сдать домашнее задание в AnyTask\n",
    "* Зарегистрируйтесь в системе AnyTask по ссылке http://anytask.org/accounts/register . Регистрация обязательна для всех!\n",
    "* Подтвердите регистрацию по e-mail.\n",
    "* Зайдите в свой профиль, нажмите “Активация инвайтов на курсы” и введите инвайт:\n",
    "\n",
    "ИАД-1 : VNYQlGd\n",
    "\n",
    "ИАД-2 : wDEa8ge\n",
    "\n",
    "ИАД-3 : SviK5dd\n",
    "\n",
    "ИАД-4 : dzdD8YG\n",
    "\n",
    "\n",
    " У вас появится курс “ВШЭ > Прикладные задачи анализа данных” в разделе “Посещает курсы”.\n",
    "* Перейдите по ссылке “ВШЭ > Прикладные задачи анализа данных (2018)” и нажмите кнопку “Сдать”. \n",
    "* У вас откроется условие задачи и будут доступны различные поля, в частности, НИЖЕ условия задачи будет поле ввода, в которое вы сможете вписать какой-то комментарий, и сможете прикрепить файл. Сделайте это.\n",
    "* Домашнее задание лучше всего сдавать в форматах IPYNB.\n",
    "* Оценку вы получите также в системе AnyTask. За своей успеваемостью можете следить в разделе “Ведомость”, а также можете прокомментировать что-то в каждом вашем домашнем задании, зайдя на ее страничку (ячейки в табличке на страничке “Ведомость” кликабельны и ведут на ваш submission домашки).\n",
    "\n",
    "(**ВАЖНО**) Если домашнее задание вы делали в группе, то в AnyTask домашнее сдает *один* участник группы, но заргестрироваться в AnyTask обязательно всем – так мы сможем проставить вам оценки в ведомость в AnyTask.\n",
    "\n",
    "Ссылка на курс в AnyTask: http://anytask.org/course/281"
   ]
  }
 ],
 "metadata": {
  "kernelspec": {
   "display_name": "Python 3",
   "language": "python",
   "name": "python3"
  },
  "language_info": {
   "codemirror_mode": {
    "name": "ipython",
    "version": 2
   },
   "file_extension": ".py",
   "mimetype": "text/x-python",
   "name": "python",
   "nbconvert_exporter": "python",
   "pygments_lexer": "ipython2",
   "version": "2.7.14"
  }
 },
 "nbformat": 4,
 "nbformat_minor": 2
}
